{
 "cells": [
  {
   "cell_type": "code",
   "execution_count": 21,
   "metadata": {},
   "outputs": [],
   "source": [
    "# SETUP\n",
    "import matplotlib.pyplot as plt\n",
    "from sklearn.metrics import PrecisionRecallDisplay\n",
    "import numpy as np\n",
    "import json\n",
    "import requests\n",
    "import pandas as pd\n",
    "\n",
    "Q1_QRELS_FILE = \"../query_qrels_M3/query_1.txt\"\n",
    "Q2_QRELS_FILE = \"../query_qrels_M3/query_2.txt\"\n",
    "Q3_QRELS_FILE = \"../query_qrels_M3/query_3.txt\"\n",
    "\n",
    "\n",
    "\n",
    "#System 2\n",
    "Q1 = \"http://localhost:8983/solr/medicines/select?debug.explain.structured=true&debugQuery=false&defType=edismax&indent=true&q.op=AND&q=nao%20tomar%20gravidez&qf=Antes_de_utilizar&qs=4&rows=100&useParams=&wt=json\"\n",
    "Q2 = \"http://localhost:8983/solr/medicines/select?debug.explain.structured=true&debugQuery=false&defType=edismax&indent=true&q.op=AND&q=Bioflavonóides%20para%20vascular&qf=Substancia_Ativa_DCI%5E4%20Active_substance%5E4%20Product_Name%5E3%20O_que_e_e_para_que_e_utilizado%5E3&rows=100&stopwords=false&useParams=&wt=json\"\n",
    "Q3 = \"http://localhost:8983/solr/medicines/select?debug.explain.structured=true&debugQuery=false&defType=edismax&fq=Vias_de_Administracao%3A%22Via%20oral%22&indent=true&q.op=AND&q=alivio%20dores&qf=O_que_e_e_para_que_e_utilizado&qs=4&rows=100&useParams=&wt=json\"\n",
    "\n",
    "\n",
    "#Systen 4\n",
    "SQ1_q = \"nao tomar gravidez\"\n",
    "SQ1_k = 10\n",
    "\n",
    "SQ2_q = \"Bioflavonóides para vascular\"\n",
    "SQ2_k = 10\n",
    "\n",
    "SQ3_q = \"alívio dores oral\"\n",
    "SQ3_k = 10\n",
    "\n",
    "\n",
    "QUERY_URL = SQ3_q\n",
    "Query_k = SQ3_k\n",
    "QRELS_FILE = Q3_QRELS_FILE\n",
    "SEMANTIC_FLAG = True"
   ]
  },
  {
   "cell_type": "code",
   "execution_count": 22,
   "metadata": {},
   "outputs": [
    {
     "name": "stdout",
     "output_type": "stream",
     "text": [
      "[{'Product_name': ['Bendalina'], 'Substancia_Ativa_DCI': 'Bendazac', 'Generico': 'Não', 'Vias_de_Administracao': 'Uso oftálmico', 'Duracao_do_Tratamento': 'Curta ou Média Duração'}, {'Product_name': ['Bendalina'], 'Substancia_Ativa_DCI': 'Bendazac', 'Generico': 'Não', 'Vias_de_Administracao': 'Uso oftálmico', 'Duracao_do_Tratamento': 'Curta ou Média Duração'}, {'Product_name': ['Azyter'], 'Substancia_Ativa_DCI': 'Azitromicina', 'Generico': 'Não', 'Vias_de_Administracao': 'Uso oftálmico', 'Duracao_do_Tratamento': 'Curta ou Média Duração'}, {'Product_name': ['Allergodil'], 'Substancia_Ativa_DCI': 'Azelastina', 'Generico': 'Não', 'Vias_de_Administracao': 'Uso oftálmico', 'Duracao_do_Tratamento': 'Curta ou Média Duração', 'O_que_e_e_para_que_e_utilizado': 'O que é Allergodil e para que é utilizado\\nAllergodil contém a substância ativa cloridrato de azelastina, que pertence ao grupo\\nde medicamentos denominados antialérgicos (anti-histamínicos). Os\\nanti-histamínicos atuam prevenindo o efeito de certas substâncias como a histamina\\nque o organismo produz como fazendo parte duma reação alérgica. A azelastina\\nmostrou reduzir a inflamação dos olhos.\\nO Allergodil pode ser utilizado no tratamento e prevenção dos sintomas oculares que\\napresenta quando tem febre dos fenos (conjuntivite alérgica sazonal) em adultos e\\ncrianças com idade igual ou superior a 4 anos.\\nO Allergodil pode ser utilizado no tratamento dos sintomas oculares causados por\\nalergia a substâncias como o pó da casa ou pelo de animais (conjuntivite alérgica\\nperene) em adultos e crianças com idade igual ou superior a 12 anos.\\nDeve consultar o seu médico se não se sentir melhor ou se piorar após 2 dias.\\nO Allergodil não está indicado para tratar infeções dos olhos.\\n2. ', 'Antes_de_utilizar': 'O que precisa de saber antes de utilizar Allergodil\\nNão utilize Allergodil:\\n- Se tem alergia ao cloridrato de azelastina ou a qualquer outro componente deste\\nmedicamento (indicados na secção 6).\\nAdvertências e precauçõesAPROVADO EM\\n06-12-2018\\nINFARMED\\nFale com o seu médico ou farmacêutico antes de utilizar Allergodil\\n- Se não tem a certeza se os sintomas nos olhos são causados por uma alergia.\\nParticularmente se apenas um dos olhos é afetado, se a sua visão está alterada ou\\nse tem dor no olho e não tem quaisquer sintomas no nariz, poderá ter uma infeção\\nem vez de uma alergia.\\n- Se os sintomas se agravarem ou durarem mais de 48 horas sem qualquer melhoria\\napesar de estar a utilizar Allergodil.\\n- Se usa lentes de contacto\\nCrianças e adolescentes\\nNo tratamento de afeções nos olhos causadas por febre dos fenos (conjuntivite\\nalérgica sazonal):\\nNão utilize este medicamento em crianças com idade inferior a 4 anos porque a\\nsegurança e eficácia não foram estabelecidas nesta faixa etária.\\nNo tratamento de afeções nos olhos causadas por uma alergia (conjuntivite alérgica\\nperene (não sazonal):\\nNão utilize este medicamento em crianças com idade inferior a 12 anos porque a\\nsegurança e eficácia não foram estabelecidas nesta faixa etária.\\nOutros medicamentos e Allergodil\\nEmbora o Allergodil não seja afetado por outros medicamentos, fale com o seu\\nmédico ou farmacêutico se estiver a utilizar, ou tiver utilizado recentemente, ou vier\\na utilizar outros medicamentos.\\nGravidez e amamentação\\nSe está grávida ou a amamentar, se pensa estar grávida ou planeia engravidar,\\nconsulte o seu médico ou farmacêutico antes de tomar este medicamento.\\nCondução de veículos e utilização de máquinas\\nA sua visão pode tornar-se turva durante um curto período de tempo após utilizar\\nAllergodil. Se esta situação ocorrer, espere até a sua visão ficar novamente nítida\\nantes de conduzir ou utilizar máquinas.\\nAllergodil contém cloreto de benzalcónio\\nEste medicamento contém 0,00375mg de cloreto de benzalcónio em cada gota,\\nequivalente a 0,00375mg / 0,03ml.\\nO cloreto de benzalcónio pode ser absorvido pelas lentes de contacto moles e pode\\nalterar a coloração das lentes de contacto. Deve remover as lentes de contacto antes\\nde utilizar este medicamento e voltar a colocá-las 15 minutos depois.\\nO cloreto de benzalcónio pode também causar irritação nos olhos, especialmente se\\ntem os olhos secos ou alterações da córnea (a camada transparente na parte da\\nfrente do olho). Se tiver uma sensação estranha no olho, picadas ou dor no olho\\napós utilizar este medicamento, fale com o seu médico.\\n3. '}, {'Product_name': ['Allergodil'], 'Substancia_Ativa_DCI': 'Azelastina', 'Generico': 'Não', 'Vias_de_Administracao': 'Uso oftálmico', 'Duracao_do_Tratamento': 'Curta ou Média Duração', 'O_que_e_e_para_que_e_utilizado': 'O que é Allergodil e para que é utilizado\\nAllergodil contém a substância ativa cloridrato de azelastina, que pertence ao grupo\\nde medicamentos denominados antialérgicos (anti-histamínicos). Os\\nanti-histamínicos atuam prevenindo o efeito de certas substâncias como a histamina\\nque o organismo produz como fazendo parte duma reação alérgica. A azelastina\\nmostrou reduzir a inflamação dos olhos.\\nO Allergodil pode ser utilizado no tratamento e prevenção dos sintomas oculares que\\napresenta quando tem febre dos fenos (conjuntivite alérgica sazonal) em adultos e\\ncrianças com idade igual ou superior a 4 anos.\\nO Allergodil pode ser utilizado no tratamento dos sintomas oculares causados por\\nalergia a substâncias como o pó da casa ou pelo de animais (conjuntivite alérgica\\nperene) em adultos e crianças com idade igual ou superior a 12 anos.\\nDeve consultar o seu médico se não se sentir melhor ou se piorar após 2 dias.\\nO Allergodil não está indicado para tratar infeções dos olhos.\\n2. ', 'Antes_de_utilizar': 'O que precisa de saber antes de utilizar Allergodil\\nNão utilize Allergodil:\\n- Se tem alergia ao cloridrato de azelastina ou a qualquer outro componente deste\\nmedicamento (indicados na secção 6).\\nAdvertências e precauçõesAPROVADO EM\\n06-12-2018\\nINFARMED\\nFale com o seu médico ou farmacêutico antes de utilizar Allergodil\\n- Se não tem a certeza se os sintomas nos olhos são causados por uma alergia.\\nParticularmente se apenas um dos olhos é afetado, se a sua visão está alterada ou\\nse tem dor no olho e não tem quaisquer sintomas no nariz, poderá ter uma infeção\\nem vez de uma alergia.\\n- Se os sintomas se agravarem ou durarem mais de 48 horas sem qualquer melhoria\\napesar de estar a utilizar Allergodil.\\n- Se usa lentes de contacto\\nCrianças e adolescentes\\nNo tratamento de afeções nos olhos causadas por febre dos fenos (conjuntivite\\nalérgica sazonal):\\nNão utilize este medicamento em crianças com idade inferior a 4 anos porque a\\nsegurança e eficácia não foram estabelecidas nesta faixa etária.\\nNo tratamento de afeções nos olhos causadas por uma alergia (conjuntivite alérgica\\nperene (não sazonal):\\nNão utilize este medicamento em crianças com idade inferior a 12 anos porque a\\nsegurança e eficácia não foram estabelecidas nesta faixa etária.\\nOutros medicamentos e Allergodil\\nEmbora o Allergodil não seja afetado por outros medicamentos, fale com o seu\\nmédico ou farmacêutico se estiver a utilizar, ou tiver utilizado recentemente, ou vier\\na utilizar outros medicamentos.\\nGravidez e amamentação\\nSe está grávida ou a amamentar, se pensa estar grávida ou planeia engravidar,\\nconsulte o seu médico ou farmacêutico antes de tomar este medicamento.\\nCondução de veículos e utilização de máquinas\\nA sua visão pode tornar-se turva durante um curto período de tempo após utilizar\\nAllergodil. Se esta situação ocorrer, espere até a sua visão ficar novamente nítida\\nantes de conduzir ou utilizar máquinas.\\nAllergodil contém cloreto de benzalcónio\\nEste medicamento contém 0,00375mg de cloreto de benzalcónio em cada gota,\\nequivalente a 0,00375mg / 0,03ml.\\nO cloreto de benzalcónio pode ser absorvido pelas lentes de contacto moles e pode\\nalterar a coloração das lentes de contacto. Deve remover as lentes de contacto antes\\nde utilizar este medicamento e voltar a colocá-las 15 minutos depois.\\nO cloreto de benzalcónio pode também causar irritação nos olhos, especialmente se\\ntem os olhos secos ou alterações da córnea (a camada transparente na parte da\\nfrente do olho). Se tiver uma sensação estranha no olho, picadas ou dor no olho\\napós utilizar este medicamento, fale com o seu médico.\\n3. '}, {'Product_name': ['Allergodil'], 'Substancia_Ativa_DCI': 'Azelastina', 'Generico': 'Não', 'Vias_de_Administracao': 'Uso oftálmico', 'Duracao_do_Tratamento': 'Curta ou Média Duração', 'O_que_e_e_para_que_e_utilizado': 'O que é Allergodil e para que é utilizado\\nAllergodil contém a substância ativa cloridrato de azelastina, que pertence ao grupo\\nde medicamentos denominados antialérgicos (anti-histamínicos). Os\\nanti-histamínicos atuam prevenindo o efeito de certas substâncias como a histamina\\nque o organismo produz como fazendo parte duma reação alérgica. A azelastina\\nmostrou reduzir a inflamação dos olhos.\\nO Allergodil pode ser utilizado no tratamento e prevenção dos sintomas oculares que\\napresenta quando tem febre dos fenos (conjuntivite alérgica sazonal) em adultos e\\ncrianças com idade igual ou superior a 4 anos.\\nO Allergodil pode ser utilizado no tratamento dos sintomas oculares causados por\\nalergia a substâncias como o pó da casa ou pelo de animais (conjuntivite alérgica\\nperene) em adultos e crianças com idade igual ou superior a 12 anos.\\nDeve consultar o seu médico se não se sentir melhor ou se piorar após 2 dias.\\nO Allergodil não está indicado para tratar infeções dos olhos.\\n2. ', 'Antes_de_utilizar': 'O que precisa de saber antes de utilizar Allergodil\\nNão utilize Allergodil:\\n- Se tem alergia ao cloridrato de azelastina ou a qualquer outro componente deste\\nmedicamento (indicados na secção 6).\\nAdvertências e precauçõesAPROVADO EM\\n06-12-2018\\nINFARMED\\nFale com o seu médico ou farmacêutico antes de utilizar Allergodil\\n- Se não tem a certeza se os sintomas nos olhos são causados por uma alergia.\\nParticularmente se apenas um dos olhos é afetado, se a sua visão está alterada ou\\nse tem dor no olho e não tem quaisquer sintomas no nariz, poderá ter uma infeção\\nem vez de uma alergia.\\n- Se os sintomas se agravarem ou durarem mais de 48 horas sem qualquer melhoria\\napesar de estar a utilizar Allergodil.\\n- Se usa lentes de contacto\\nCrianças e adolescentes\\nNo tratamento de afeções nos olhos causadas por febre dos fenos (conjuntivite\\nalérgica sazonal):\\nNão utilize este medicamento em crianças com idade inferior a 4 anos porque a\\nsegurança e eficácia não foram estabelecidas nesta faixa etária.\\nNo tratamento de afeções nos olhos causadas por uma alergia (conjuntivite alérgica\\nperene (não sazonal):\\nNão utilize este medicamento em crianças com idade inferior a 12 anos porque a\\nsegurança e eficácia não foram estabelecidas nesta faixa etária.\\nOutros medicamentos e Allergodil\\nEmbora o Allergodil não seja afetado por outros medicamentos, fale com o seu\\nmédico ou farmacêutico se estiver a utilizar, ou tiver utilizado recentemente, ou vier\\na utilizar outros medicamentos.\\nGravidez e amamentação\\nSe está grávida ou a amamentar, se pensa estar grávida ou planeia engravidar,\\nconsulte o seu médico ou farmacêutico antes de tomar este medicamento.\\nCondução de veículos e utilização de máquinas\\nA sua visão pode tornar-se turva durante um curto período de tempo após utilizar\\nAllergodil. Se esta situação ocorrer, espere até a sua visão ficar novamente nítida\\nantes de conduzir ou utilizar máquinas.\\nAllergodil contém cloreto de benzalcónio\\nEste medicamento contém 0,00375mg de cloreto de benzalcónio em cada gota,\\nequivalente a 0,00375mg / 0,03ml.\\nO cloreto de benzalcónio pode ser absorvido pelas lentes de contacto moles e pode\\nalterar a coloração das lentes de contacto. Deve remover as lentes de contacto antes\\nde utilizar este medicamento e voltar a colocá-las 15 minutos depois.\\nO cloreto de benzalcónio pode também causar irritação nos olhos, especialmente se\\ntem os olhos secos ou alterações da córnea (a camada transparente na parte da\\nfrente do olho). Se tiver uma sensação estranha no olho, picadas ou dor no olho\\napós utilizar este medicamento, fale com o seu médico.\\n3. '}, {'Product_name': ['Diltiem'], 'Substancia_Ativa_DCI': 'Diltiazem', 'Generico': 'Não', 'Vias_de_Administracao': 'Via oral', 'Duracao_do_Tratamento': 'Longa Duração', 'O_que_e_e_para_que_e_utilizado': 'O que é Diltiem e para que é utilizado\\nO Diltiem contém um medicamento chamado cloridrato de diltiazem, que pertence a\\num grupo de medicamentos designado de \"bloqueadores da entrada do cálcio\". Este\\nmedicamento torna os seus vasos sanguíneos mais dilatados. Este mecanismo ajuda a\\nbaixar a sua tensão arterial. Também facilita o bombeamento do sangue efetuado a\\npartir do coração para todo o organismo. A sua ação ajuda a prevenir a dor no peito\\nassociada à angina.\\nEste medicamento é utilizado para:\\nTratar a insuficiência coronária aguda e crónica.\\nPrevenir e tratar as doenças cardíacas associadas à diminuição da irrigação sanguínea.\\nPrevenir e tratar a angina de peito (dor no peito).\\nTratar a \"angina de Prinzmetal\".\\nHipertensão arterial.\\n2. ', 'Antes_de_utilizar': 'O que precisa de saber antes de tomar Diltiem\\nNão tome Diltiem e informe o seu médico se:\\n- tem alergia ao cloridrato de diltiazem ou a qualquer um dos componentes deste\\nmedicamento (indicados na Secção 6).\\n- Os sinais de uma reação alérgica incluem: erupção cutânea (rash), dificuldades em\\nengolir ou em respirar, inchaço dos lábios, face, garganta ou língua.APROVADO EM\\n20-11-2021\\nINFARMED\\n- Estiver grávida, planeia engravidar ou não tem a certeza de que está grávida (ver a\\nSecção \"Gravidez e amamentação\" abaixo).\\n- Estiver a amamentar ou se planeia fazê-lo (ver a Secção \"Gravidez e amamentação\"\\nabaixo).\\n- Estiver a tomar um medicamento chamado dantroleno utilizado para tratar espasmos\\nmusculares graves ou febre alta (ver a secção \" Outros medicamentos e Diltiem\"\\nabaixo).\\n- Tiver um batimento cardíaco muito lento - inferior a 50 batimentos por minuto.\\n- Sofrer de insuficiência cardíaca e problemas de circulação sanguínea ao nível dos\\nseus pulmões. Este tipo de doença poderá causar-lhe falta de ar e inchaço dos\\ntornozelos.\\n- Tiver quaisquer outros problemas graves com o seu coração. Incluindo batimentos\\nirregulares do coração (a menos que tenha um pacemaker).\\n- Tiver história de insuficiência cardíaca, falta de ar, batimento cardíaco lento ou\\npressão arterial baixa. Foram relatados casos de lesão renal em doentes com tais\\ncondições.\\n- Tiver diabetes devido à possibilidade de aumento da glucose no sangue.\\n- Se já está a tomar um medicamento que contém ivabradina para o tratamento de\\ndeterminadas doenças cardíacas.\\n- Tiver a tomar um medicamento contendo lomitapida utilizado no tratamento de\\nníveis elevados de colesterol (consulte a seção: \"Outros medicamentos e Diltiem\").\\nNão tome este medicamento se alguma das situações acima mencionadas lhe é\\naplicável. Caso tenha dúvidas, fale com o seu médico ou farmacêutico antes de tomar\\nDiltiem.\\nO uso de diltiazem pode induzir broncoespasmo, incluindo o agravamento da asma,\\nespecialmente em doentes com hiper-reatividade brônquica pré-existente. Foram\\ntambém reportados casos após o aumento da dose. Os doentes devem ser\\nmonitorizados quanto aos sinais e sintomas de insuficiência respiratória durante o\\ntratamento com diltiazem.\\nTome especial cuidado com Diltiem\\nConfirme com o seu médico ou farmacêutico antes de tomar o seu medicamento se:\\n- Tem algum problema de coração, para além da angina ou dos descritos na secção\\nacima\\nO seu médico vai examiná-lo de forma mais cuidadosa particularmente quando iniciar\\no tratamento com os comprimidos se:\\n- Tiver mais de 65 anos de idade\\n- Tiver problemas de fígado ou rins\\nSe não tiver a certeza de que alguma destas situações lhe é aplicável, consulte o seu\\nmédico ou farmacêutico antes de tomar Diltiem.\\nOutros medicamentos e Diltiem\\nInforme o seu médico ou farmacêutico se estiver a tomar ou tiver tomado\\nrecentemente, ou se vier a tomar outros medicamentos, incluindo medicamentos\\nobtidos sem receita médica ou medicamentos de origem natural. Isto porque o DiltiemAPROVADO EM\\n20-11-2021\\nINFARMED\\npode afetar a forma como alguns dos outros medicamentos atuam. Da mesma forma,\\nalguns medicamentos podem afetar a forma como Diltiem atua.\\nNão tome este medicamento e informe o seu médico especialmente se estiver a tomar:\\n- Dantroleno (uma perfusão) utilizada para tratar espasmos musculares graves ou\\nfebre muito alta (a chamada \"hipertermia maligna\")\\n- Medicamentos contendo lomitapida utilizados para o tratamento de níveis elevados\\nde colesterol. O diltiazem pode aumentar a concentração da lomitapida, o que pode\\nlevar a um aumento na probabilidade e gravidade dos efeitos indesejáveis\\nrelacionados com o fígado.\\nO Diltiem pode aumentar o efeito dos seguintes medicamentos:\\n- Medicamentos para tratar a tensão arterial alta, tais como a doxazosina, tansulosina,\\natenolol, propanolol ou acebutolol;\\n- Medicamentos utilizados para tratar o batimento cardíaco irregular, tais como a\\namiodarona e a digoxina;\\n- Medicamentos utilizados para tratar a angina, tais como o trinitrato de gliceril ou o\\ntrinitrato de isossorbido;\\n- Medicamentos utilizados para tratar níveis elevados de colesterol, tais como a\\nsimvastatina, fluvastatina e a pravastatina;\\n- Ciclosporina utilizada para evitar a rejeição de órgãos após um transplante;\\n- Carbamazepina e fenitoína, utilizadas para tratar a epilepsia;\\n- Teofilina, utilizada para tratar problemas respiratórios;\\n- Lítio, utilizado para tratar alguns tipos de doenças mentais.\\n- Antiagregantes plaquetários: num estudo farmadinâmico, o diltiazem demonstrou\\ninibir a agregação plaquetária. Apesar da relevância clínica desta descoberta ser\\ndesconhecida, um potencial efeito aditivo deve ser considerado quando diltiazem é\\nutilizado com medicamentos antiagregantes plaquetários.\\n- Cilostazol: foi demonstrada que a toma de diltiazem aumenta a exposição ao\\ncilostazol e aumenta a sua actividade farmacológica.\\nO Diltiem pode afetar negativamente a forma como os seguintes medicamentos\\natuam:\\n- Rifampicina, utilizada para tratar a tuberculose\\nOs medicamentos seguintes podem aumentar o efeito do Diltiem:\\n- Medicamentos como por exemplo a cimetidina e a ranitidina, utilizados para tratar\\nas úlceras do estômago.\\nÉ necessário um cuidado especial em doentes que recebem concomitantemente\\ndiltiazem e meios de contraste para raios-X.\\nTem sido notificado um aumento do risco de depressão quando o diltiazem é\\nadministrado concomitantemente com beta-bloqueantes.\\nDiltiem com alimentos e bebidas\\nO consumo de sumo de toranja pode aumentar o efeito de Diltiem.\\nGravidez e amamentaçãoAPROVADO EM\\n20-11-2021\\nINFARMED\\n- Não tome o Diltiem se estiver grávida, pensar que pode estar grávida ou planeia\\nengravidar. Isto porque o Diltiem pode causar problemas ao seu bebé. Consulte o seu\\nmédico se existir uma possibilidade de estar grávida.\\n- Não amamente se estiver a tomar Diltiem, porque poderão passar pequenas\\nquantidades deste medicamento para o leite materno. Se estiver a amamentar ou\\nplanear fazê-lo, consulte o seu médico ou farmacêutico antes de tomar qualquer\\nmedicamento.\\nCondução de veículos e utilização de máquinas\\nPode sentir tonturas enquanto estiver a tomar este medicamento. Se tal acontecer, não\\nconduza nem utilize quaisquer ferramentas ou maquinaria.\\nInformações importantes sobre alguns componentes de Diltiem\\nDiltiem contém lactose mono-hidratada. Se foi informado pelo seu médico que tem\\nintolerância a alguns açúcares, contacte-o antes de tomar este medicamento.\\nDiltiem contém Óleo de rícino hidrogenado. Pode causar distúrbios no estômago e\\ndiarreia.\\n3. '}, {'Product_name': ['Doxican'], 'Substancia_Ativa_DCI': 'Tenoxicam', 'Generico': 'Não', 'Vias_de_Administracao': 'Via oral', 'Duracao_do_Tratamento': 'Curta ou Média Duração', 'O_que_e_e_para_que_e_utilizado': 'O QUE É DOXICAN E PARA QUE É UTILIZADO\\nÉ um medicamento anti-inflamatório não esteróide sistémico, com propriedades anti-\\niflamatórias e analgésicas.\\nÉ utilizado no tratamento sintomático de longa duração, nomeadamente em doentes\\ncom osteoartroses e reumatismos inflamatórios crónicos tais como artrite reumatóide ou\\nespondilite anquilosante.\\nDoxican alivia as manifestações agudas provocadas pela inflamação das articulações,\\ntendões e bolsas.\\nTambém actua nas afecções agudas pós-traumáticas, distensões musculares, gota aguda\\ne lombalgias.\\nDoxican ainda se utiliza para alívio das dores menstruais intensas.\\n2.', 'Antes_de_utilizar': 'ANTES DE TOMAR DOXICAN\\nNão tome Doxican:\\n- se tem alergia (hipersensibilidade) ao tenoxicam ou a qualquer outro componente de\\nDOXICAN ou alergia a outros anti-inflamatórios não esteróides;\\n- se reage com sintomas de asma, rinite ou urticária aos salicilatos ou outros fármacos\\nanti-inflamatórios não esteróides.;\\n- se tem ou já teve hemorragia gastrointestinal ou perfuração, relacionada com\\nterapêutica anterior com AINE;\\n- se tem úlcera péptica/hemorragia activa ou se tem história de úlcera\\npéptica/hemorragia recorrente (dois ou mais episódios distintos de ulceração ou\\nhemorragia comprovada);\\n- se sofre de insuficiência cardíaca grave;\\n- se sofre de alterações graves da coagulação do sangue;\\n- se sofre de insuficiência hepática ou renal grave;APROVADO EM\\n18-05-2018\\nINFARMED\\n- se está no último trimestre da gravidez.\\n.\\nTome especial cuidado com Doxican:\\n- se estiver a tomar outros anti-inflamatórios não esteróides, pois esta combinação deve\\nser evitada (ver \"Ao tomar Doxican com outros medicamentos\").\\n- se tiver condições que possam aumentar o risco de desenvolver problemas renais, tais\\ncomo doença renal já existente, problemas renais associados a diabetes, cirrose\\nhepática, insuficiência cardíaca congestiva, depleção de volume, ou se estiver a tomar\\nfármacos que possam prejudicar os seus rins (denominados nefrotóxicos), diuréticos ou\\ncorticosteróides. Esta situação é particularmente importante se for fazer ou se tiver feito\\numa cirurgia, devido a uma possível perda de sangue abundante.\\n- se estiver a tomar medicamentos que actuem ao nível da coagulação do sangue.\\n- se começar a sentir reacções cutâneas graves, principalmente no início do tratamento\\ncom Doxican Neste caso deverá parar imediatamente de tomar Doxican e consultar o\\nseu médico, pois pode tratar-se de uma situação fatal.\\n- se sentir alterações visuais, pois poderá ser necessário fazer um exame aos olhos.\\n- se tiver uma infecção. Nesse caso, deverá informar o seu médico.\\n- se tiver asma, sinusite crónica ou polipose nasal, uma vez que Doxican pode\\ndesencadear um broncospasmo.\\n- se estiver a tentar engravidar, porque Doxican pode ser prejudicial para a fertilidade.\\n- se tiver porfiria.\\n- se tiver história de hipertensão arterial e/ou insuficiência cardíaca congestiva, porque\\ndeverá ser vigiado e aconselhado pelo seu médico, visto que pode surgir retenção de\\nlíquidos ou edema (inchaço dos pés ou mãos).\\n- se for idoso, estiver debilitado ou tiver história de problemas gastrointestinais (ex:\\nhemorragia ou ulceração), pois estará em maior risco de sofrer uma hemorragia ou\\nperfuração gastrointestinal. Este risco é maior se estiver a tomar doses elevadas de\\nDoxican, pelo que deverá seguir sempre as recomendações do seu médico em relação às\\ndoses de Doxican.\\n- se tiver história de problemas gastrointestinais, particularmente se for idoso, avise\\nimediatamente o seu médico caso surjam sintomas abdominais pouco usuais,\\nprincipalmente no início do tratamento. Caso ocorra úlcera péptica ou hemorragia\\ngastrointestinal pare imediatamente de tomar Doxican e consulte o seu médico. Os\\nmedicamentos tais como Doxican podem estar associados a um pequeno aumento do\\nrisco de ataque cardíaco (enfarte do miocárdio) ou Acidente Vascular Cerebral (AVC). O\\nrisco é maior com doses mais elevadas e em tratamento prolongado. Não deve ser\\nexcedida a dose recomendada nem o tempo de duração do tratamento.\\n- se tem problemas cardíacos, sofreu um AVC ou pensa que pode estar em risco de vir a\\nsofrer destas situações (por exemplo se tem pressão arterial elevada, diabetes, elevados\\nníveis de colesterol ou se é fumador) deverá aconselhar-se sobre o tratamento com o\\nseu médico ou farmacêutico.\\nAo tomar Doxican com outros medicamentos:\\nInforme o seu médico ou farmacêutico se estiver a tomar ou tiver tomado recentemente\\noutros medicamentos, incluindo medicamentos obtidos sem receita médica:\\n- corticosteróides, agentes anti-agregantes plaquetários (ex: ácido acetilsalicílico) e\\ninibidores selectivos da recaptação da serotonina, devido ao aumento do risco de\\nhemorragia gastrointestinal;\\n- anticoagulantes tais como a varfarina, pois deverá ser monitorizado rigorosamente pelo\\nseu médico;\\n- acetilsalicilatos e salicilatos, devido ao aumento do risco de reacções adversas;\\n- metotrexato, porque pode ocorrer toxicidade grave devido ao metotrexato;APROVADO EM\\n18-05-2018\\nINFARMED\\n- lítio, visto que o seu efeito pode estar aumentado. É importante que o seu médico\\ncontrole cuidadosamente as concentrações de lítio no seu sangue;\\n- diuréticos e anti-hipertensores, especialmente se for idoso ou estiver desidratado. É\\nimportante manter-se sempre bem hidratado e poderá ser necessário monitorizar a sua\\nfunção renal no início e durante o tratamento concomitante;\\n- probenecid, porque pode aumentar as concentrações de Doxican;\\n- antidiabéticos orais, porque o seu médico poderá ter que fazer uma monitorização\\ncuidadosa da sua situação.\\nOutras substâncias parecem não ter impacto no tratamento com Doxican,\\nnomeadamente:\\n- furosemida;\\n- alfa-agonistas de acção central;\\n- bloqueadores de canais do cálcio;\\n- atenolol;\\n- digoxina;\\n- antiácidos;\\n- cimetidina;\\n- álcool.\\nGravidez e aleitamento:\\nConsulte o seu médico ou farmacêutico antes de tomar qualquer medicamento.\\nOs anti-inflamatórios não esteróides têm um efeito inibidor da síntese das\\nprostaglandinas e, quando administrados na última fase da gravidez, podem provocar o\\nfecho do canal arterial, prolongar as contracções uterinas e retardar o parto. Por estas\\nrazões, o tratamento com Doxican durante o terceiro trimestre de gravidez está contra-\\nindicado.\\nUma quantidade muito pequena de tenoxicam passa para o leite materno. Até agora não\\nse registaram efeitos adversos nas crianças amamentadas por mães em tratamento com\\nDoxican. No entanto, esta possibilidade não pode ser excluída, pelo que deve\\ninterromper a amamentação ou descontinuar o medicamento.\\nCondução de veículos e utilização de máquinas:\\nSe surgirem efeitos adversos que possam afectar a capacidade de condução e a\\nutilização de máquinas, tais como vertigens, tonturas ou alterações visuais, deverá\\nevitar fazer essas actividades.\\nInformações importantes sobre alguns componentes de Doxican:\\nCada cápsula de Doxican contém 175 mg de lactose mono-hidratada. Se foi informado\\npelo seu médico que tem intolerância a alguns açúcares, contacte-o antes de tomar este\\nmedicamento.\\n3.'}, {'Product_name': ['Doxican'], 'Substancia_Ativa_DCI': 'Tenoxicam', 'Generico': 'Não', 'Vias_de_Administracao': 'Via oral', 'Duracao_do_Tratamento': 'Curta ou Média Duração', 'O_que_e_e_para_que_e_utilizado': 'O QUE É DOXICAN E PARA QUE É UTILIZADO\\nÉ um medicamento anti-inflamatório não esteróide sistémico, com propriedades anti-\\niflamatórias e analgésicas.\\nÉ utilizado no tratamento sintomático de longa duração, nomeadamente em doentes\\ncom osteoartroses e reumatismos inflamatórios crónicos tais como artrite reumatóide ou\\nespondilite anquilosante.\\nDoxican alivia as manifestações agudas provocadas pela inflamação das articulações,\\ntendões e bolsas.\\nTambém actua nas afecções agudas pós-traumáticas, distensões musculares, gota aguda\\ne lombalgias.\\nDoxican ainda se utiliza para alívio das dores menstruais intensas.\\n2.', 'Antes_de_utilizar': 'ANTES DE TOMAR DOXICAN\\nNão tome Doxican:\\n- se tem alergia (hipersensibilidade) ao tenoxicam ou a qualquer outro componente de\\nDOXICAN ou alergia a outros anti-inflamatórios não esteróides;\\n- se reage com sintomas de asma, rinite ou urticária aos salicilatos ou outros fármacos\\nanti-inflamatórios não esteróides.;\\n- se tem ou já teve hemorragia gastrointestinal ou perfuração, relacionada com\\nterapêutica anterior com AINE;\\n- se tem úlcera péptica/hemorragia activa ou se tem história de úlcera\\npéptica/hemorragia recorrente (dois ou mais episódios distintos de ulceração ou\\nhemorragia comprovada);\\n- se sofre de insuficiência cardíaca grave;\\n- se sofre de alterações graves da coagulação do sangue;\\n- se sofre de insuficiência hepática ou renal grave;APROVADO EM\\n18-05-2018\\nINFARMED\\n- se está no último trimestre da gravidez.\\n.\\nTome especial cuidado com Doxican:\\n- se estiver a tomar outros anti-inflamatórios não esteróides, pois esta combinação deve\\nser evitada (ver \"Ao tomar Doxican com outros medicamentos\").\\n- se tiver condições que possam aumentar o risco de desenvolver problemas renais, tais\\ncomo doença renal já existente, problemas renais associados a diabetes, cirrose\\nhepática, insuficiência cardíaca congestiva, depleção de volume, ou se estiver a tomar\\nfármacos que possam prejudicar os seus rins (denominados nefrotóxicos), diuréticos ou\\ncorticosteróides. Esta situação é particularmente importante se for fazer ou se tiver feito\\numa cirurgia, devido a uma possível perda de sangue abundante.\\n- se estiver a tomar medicamentos que actuem ao nível da coagulação do sangue.\\n- se começar a sentir reacções cutâneas graves, principalmente no início do tratamento\\ncom Doxican Neste caso deverá parar imediatamente de tomar Doxican e consultar o\\nseu médico, pois pode tratar-se de uma situação fatal.\\n- se sentir alterações visuais, pois poderá ser necessário fazer um exame aos olhos.\\n- se tiver uma infecção. Nesse caso, deverá informar o seu médico.\\n- se tiver asma, sinusite crónica ou polipose nasal, uma vez que Doxican pode\\ndesencadear um broncospasmo.\\n- se estiver a tentar engravidar, porque Doxican pode ser prejudicial para a fertilidade.\\n- se tiver porfiria.\\n- se tiver história de hipertensão arterial e/ou insuficiência cardíaca congestiva, porque\\ndeverá ser vigiado e aconselhado pelo seu médico, visto que pode surgir retenção de\\nlíquidos ou edema (inchaço dos pés ou mãos).\\n- se for idoso, estiver debilitado ou tiver história de problemas gastrointestinais (ex:\\nhemorragia ou ulceração), pois estará em maior risco de sofrer uma hemorragia ou\\nperfuração gastrointestinal. Este risco é maior se estiver a tomar doses elevadas de\\nDoxican, pelo que deverá seguir sempre as recomendações do seu médico em relação às\\ndoses de Doxican.\\n- se tiver história de problemas gastrointestinais, particularmente se for idoso, avise\\nimediatamente o seu médico caso surjam sintomas abdominais pouco usuais,\\nprincipalmente no início do tratamento. Caso ocorra úlcera péptica ou hemorragia\\ngastrointestinal pare imediatamente de tomar Doxican e consulte o seu médico. Os\\nmedicamentos tais como Doxican podem estar associados a um pequeno aumento do\\nrisco de ataque cardíaco (enfarte do miocárdio) ou Acidente Vascular Cerebral (AVC). O\\nrisco é maior com doses mais elevadas e em tratamento prolongado. Não deve ser\\nexcedida a dose recomendada nem o tempo de duração do tratamento.\\n- se tem problemas cardíacos, sofreu um AVC ou pensa que pode estar em risco de vir a\\nsofrer destas situações (por exemplo se tem pressão arterial elevada, diabetes, elevados\\nníveis de colesterol ou se é fumador) deverá aconselhar-se sobre o tratamento com o\\nseu médico ou farmacêutico.\\nAo tomar Doxican com outros medicamentos:\\nInforme o seu médico ou farmacêutico se estiver a tomar ou tiver tomado recentemente\\noutros medicamentos, incluindo medicamentos obtidos sem receita médica:\\n- corticosteróides, agentes anti-agregantes plaquetários (ex: ácido acetilsalicílico) e\\ninibidores selectivos da recaptação da serotonina, devido ao aumento do risco de\\nhemorragia gastrointestinal;\\n- anticoagulantes tais como a varfarina, pois deverá ser monitorizado rigorosamente pelo\\nseu médico;\\n- acetilsalicilatos e salicilatos, devido ao aumento do risco de reacções adversas;\\n- metotrexato, porque pode ocorrer toxicidade grave devido ao metotrexato;APROVADO EM\\n18-05-2018\\nINFARMED\\n- lítio, visto que o seu efeito pode estar aumentado. É importante que o seu médico\\ncontrole cuidadosamente as concentrações de lítio no seu sangue;\\n- diuréticos e anti-hipertensores, especialmente se for idoso ou estiver desidratado. É\\nimportante manter-se sempre bem hidratado e poderá ser necessário monitorizar a sua\\nfunção renal no início e durante o tratamento concomitante;\\n- probenecid, porque pode aumentar as concentrações de Doxican;\\n- antidiabéticos orais, porque o seu médico poderá ter que fazer uma monitorização\\ncuidadosa da sua situação.\\nOutras substâncias parecem não ter impacto no tratamento com Doxican,\\nnomeadamente:\\n- furosemida;\\n- alfa-agonistas de acção central;\\n- bloqueadores de canais do cálcio;\\n- atenolol;\\n- digoxina;\\n- antiácidos;\\n- cimetidina;\\n- álcool.\\nGravidez e aleitamento:\\nConsulte o seu médico ou farmacêutico antes de tomar qualquer medicamento.\\nOs anti-inflamatórios não esteróides têm um efeito inibidor da síntese das\\nprostaglandinas e, quando administrados na última fase da gravidez, podem provocar o\\nfecho do canal arterial, prolongar as contracções uterinas e retardar o parto. Por estas\\nrazões, o tratamento com Doxican durante o terceiro trimestre de gravidez está contra-\\nindicado.\\nUma quantidade muito pequena de tenoxicam passa para o leite materno. Até agora não\\nse registaram efeitos adversos nas crianças amamentadas por mães em tratamento com\\nDoxican. No entanto, esta possibilidade não pode ser excluída, pelo que deve\\ninterromper a amamentação ou descontinuar o medicamento.\\nCondução de veículos e utilização de máquinas:\\nSe surgirem efeitos adversos que possam afectar a capacidade de condução e a\\nutilização de máquinas, tais como vertigens, tonturas ou alterações visuais, deverá\\nevitar fazer essas actividades.\\nInformações importantes sobre alguns componentes de Doxican:\\nCada cápsula de Doxican contém 175 mg de lactose mono-hidratada. Se foi informado\\npelo seu médico que tem intolerância a alguns açúcares, contacte-o antes de tomar este\\nmedicamento.\\n3.'}, {'Product_name': ['Claritromicina Pharmis'], 'Substancia_Ativa_DCI': 'Claritromicina', 'Generico': 'Sim', 'Vias_de_Administracao': 'Via intravenosa', 'Duracao_do_Tratamento': 'Curta ou Média Duração', 'O_que_e_e_para_que_e_utilizado': 'O que é Claritromicina Pharmis e para que é utilizada\\nA Claritromicina Pharmis é um medicamento anti-infecioso que pertence a um grupo\\nde antibióticos denominados macrólidos, e cuja substância ativa é a claritromicina.\\nOs antibióticos param o crescimento das bactérias que causam infeções.\\nA Claritromicina Pharmis está indicada em adultos e crianças com mais de 12 anos\\nde idade.\\nA Claritromicina Pharmis é um antibiótico que está indicado nas infeções graves,\\nsempre que é necessária terapêutica intravenosa (injeção na veia) para o tratamento\\nde microrganismos sensíveis, nas seguintes situações:\\n- Infeções do trato respiratório superior (faringite, sinusite);\\n- Infeções do trato respiratório inferior (bronquite, pneumonia);\\n- Infeções da pele e tecidos moles.\\n2. ', 'Antes_de_utilizar': 'O que precisa de saber antes de utilizar Claritromicina Pharmis\\nNão utilize Claritromicina Pharmis:\\n- se tem alergia (hipersensibilidade) à substância ativa (claritromicina), aos\\nantibióticos macrólidos ou a qualquer outro componente deste medicamento\\n(indicados na secção 6).\\nSe estiver a tomar:\\n- ergotamina ou dihidroergotamina comprimidos (medicamentos usados para tratar a\\nenxaqueca);APROVADO EM\\n11-02-2022\\nINFARMED\\n- terfenadina ou astemizole (medicamentos usados para a febre dos fenos ou\\nalergias);\\n- cisaprida comprimidos (usado no alívio de certas perturbações do estômago);\\n- pimozida comprimidos (usado para tratar certas doenças psiquiátricas);\\n- colchicina (usado para o tratamento da gota);\\n- lovastatina ou sinvastatina (medicamentos usados para o colesterol elevado);\\n- um medicamento que contém lomitapida.\\nSe está a tomar outros medicamentos que são conhecidos por causar graves\\nperturbações no ritmo cardíaco.\\nSe:\\n- tiver níveis anormalmente baixos de potássio ou magnésio no sangue (hipocaliemia\\nou hipomagnesemia) ou arritmias cardíacas;\\n(palpitações), consulte o seu médico antes de utilizar claritromicina;\\n- tiver problemas no fígado e/ou rins;\\n- sofrer ou alguém da sua família tiver problemas de coração que possam originar\\nritmo cardíaco anormal (prolongamento do intervalo QT).\\nSe pensa que alguma das condições acima se aplica ao seu caso, deve consultar o\\nseu médico ou enfermeiro antes de utilizar claritromicina.\\nAdvertências e precauções\\nFale com o seu médico ou enfermeiro antes de utilizar Claritromicina Pharmis:\\n- se está ou pensa estar grávida. Não é recomendada a utilização de claritromicina\\ndurante a gravidez sem o médico considerar cuidadosamente os benefícios versus os\\nriscos;\\n- se sofre de insuficiência renal moderada a grave;\\n- se sofre de insuficiência ou doença hepática;\\n- se tiver problemas cardíacos;\\n- se estiver a tomar colchicina porque este medicamento pode causar efeitos\\nindesejáveis graves;\\n- se estiver a tomar medicamentos hipoglicémicos orais e/ou insulina pois a toma\\nconjunta com claritromicina pode causar hipoglicémia;\\n- se estiver a tomar anticoagulantes orais, tais como a varfarina ou qualquer outro\\nanticoagulante, por ex. dabigatrano, rivaroxabano, apixabano, pois a toma conjunta\\ncom claritromicina pode alterar os fatores de coagulação do sangue;\\n- se estiver a tomar triazolam ou midazolam (para a ansiedade ou para dormir);\\n- se estiver a tomar outros antibióticos macrólidos, como a lincomicina e a\\nclindamicina;\\n- se ocorrer um agravamento dos sintomas de miastenia gravis (doença que causa\\nfraqueza muscular);\\n- se tiver uma reação de hipersensibilidade deve informar imediatamente o seu\\nmédico ou enfermeiro;\\n- se tiver diarreia grave ou prolongada durante ou após utilizar claritromicina deve\\ninformar imediatamente o seu médico ou enfermeiro.\\nSe pensa que alguma das condições acima se aplica ao seu caso, deve consultar o\\nseu médico ou enfermeiro antes de utilizar claritromicina.\\nCriançasAPROVADO EM\\n11-02-2022\\nINFARMED\\nA Claritromicina Pharmis não deve ser utilizada em crianças com menos de 12 anos\\nde idade.\\nOutros medicamentos e Claritromicina Pharmis\\nInforme o seu médico ou enfermeiro se estiver a utilizar, tiver utilizado\\nrecentemente, ou se vier a utilizar outros medicamentos, especialmente se está a\\nutilizar algum dos seguintes medicamentos pois poderão ocorrer efeitos graves se\\nutilizados em conjunto com a claritromicina:\\n- digoxina, quinidina ou disopiramida (para o coração);\\n- varfarina ou qualquer outro anticoagulante, por ex. dabigatrano, rivaroxabano,\\napixabano (utilizados para reduzir a coagulação do sangue);\\n- ergotamina/dihidroergotamina (para a enxaqueca);\\n- carbamazepina, valproato, fenobarbital ou fenitoína (para a epilepsia);\\n- colchicina (para a gota);\\n- teofilina (para a asma);\\n- terfenadina e astemizole (para a febre dos fenos ou alergias);\\n- triazolam, alprazolam ou midazolam (para a ansiedade ou para dormir);\\n- cisaprida ou omeprazol (para problemas de estômago);\\n- pimozida (para doenças psiquiátricas);\\n- zidovudina, ritonavir, atazanavir, saquinavir, nevirapina, efavirenz ou etravirina\\n(para VIH);\\n- rifabutina e rifampicina (por exemplo: para tratar a tuberculose);\\n- fluconazol ou itraconazol (para tratar infeções causadas por fungos);\\n- sildenafil, tadalafil ou vardenafil (para a disfunção eréctil);\\n- lovastatina ou sinvastatina (para o colesterol);\\n- tacrolimus ou ciclosporina (para ajudar nos transplantes de órgãos);\\nA claritromicina não interage com os contracetivos orais.\\nGravidez, amamentação e fertilidade\\nSe está grávida ou a amamentar, se pensa estar grávida ou planeia engravidar,\\nconsulte o seu médico ou enfermeiro antes de utilizar este medicamento.\\nGravidez\\nA segurança da utilização da claritromicina durante a gravidez ainda não foi\\nestabelecida. Por conseguinte, não é recomendada a sua utilização durante a\\ngravidez, principalmente durante os 3 primeiros meses, sem considerar\\ncuidadosamente os benefícios versus os riscos.\\nAmamentação\\nA segurança da utilização da claritromicina durante a amamentação ainda não foi\\nestabelecida.\\nA claritromicina é excretada no leite materno.\\nFertilidade\\nSão desconhecidos os efeitos da claritromicina na fertilidade.\\nCondução de veículos e utilização de máquinas\\nA claritromicina pode causar tonturas, vertigens, confusão e desorientação. Por\\nconseguinte, pode afetar a sua capacidade para conduzir ou utilizar máquinasAPROVADO EM\\n11-02-2022\\nINFARMED\\nCaso estes sintomas ocorram não deve conduzir ou utilizar máquinas.\\n3. '}]\n",
      "Returned: 10\n"
     ]
    }
   ],
   "source": [
    "from query_embedding import get_response\n",
    "\n",
    "# Read qrels to extract relevant documents\n",
    "relevant = list(map(lambda el: el.strip(), open(QRELS_FILE).readlines()))\n",
    "# Get query results from Solr instance\n",
    "if(SEMANTIC_FLAG):\n",
    "    results = get_response(QUERY_URL, topK=Query_k).get(\"response\", {}).get(\"docs\", [])\n",
    "else:\n",
    "    results = requests.get(QUERY_URL).json()['response']['docs']\n",
    "\n",
    "print(results)\n",
    "print('Returned:',len(results))"
   ]
  },
  {
   "cell_type": "code",
   "execution_count": 23,
   "metadata": {},
   "outputs": [],
   "source": [
    "# METRICS TABLE\n",
    "# Define custom decorator to automatically calculate metric based on key\n",
    "metrics = {}\n",
    "metric = lambda f: metrics.setdefault(f.__name__, f)\n",
    "\n",
    "@metric\n",
    "def ap(results, relevant):\n",
    "    \"\"\"Average Precision\"\"\"\n",
    "    precision_values = []\n",
    "    relevant_count = 0\n",
    "\n",
    "    for idx, doc in enumerate(results):\n",
    "        if doc['Product_name'][0] in relevant:\n",
    "            relevant_count += 1\n",
    "            precision_at_k = relevant_count / (idx + 1)\n",
    "            precision_values.append(precision_at_k)\n",
    "\n",
    "    if not precision_values:\n",
    "        return 0.0\n",
    "\n",
    "    return sum(precision_values)/len(precision_values)\n",
    "\n",
    "@metric\n",
    "def p10(results, relevant, n=10):\n",
    "    \"\"\"Precision at N\"\"\"\n",
    "    return len([doc for doc in results[:n] if doc['Product_name'][0] in relevant])/n\n",
    "\n",
    "def calculate_metric(key, results, relevant):\n",
    "    return metrics[key](results, relevant)\n",
    "\n",
    "# Define metrics to be calculated\n",
    "evaluation_metrics = {\n",
    "    'ap': 'Average Precision',\n",
    "    'p10': 'Precision at 10 (P@10)'\n",
    "}"
   ]
  },
  {
   "cell_type": "code",
   "execution_count": 24,
   "metadata": {},
   "outputs": [
    {
     "name": "stderr",
     "output_type": "stream",
     "text": [
      "/var/folders/vs/5lnkycfx3cqfxdsgh773jtw80000gn/T/ipykernel_51170/2291209027.py:10: FutureWarning: In future versions `DataFrame.to_latex` is expected to utilise the base implementation of `Styler.to_latex` for formatting and rendering. The arguments signature may therefore change. It is recommended instead to use `DataFrame.style.to_latex` which also contains additional functionality.\n",
      "  tf.write(df.to_latex())\n"
     ]
    }
   ],
   "source": [
    "# Calculate all metrics and export results as LaTeX table\n",
    "df = pd.DataFrame([['Metric','Value']] +\n",
    "    [\n",
    "        [evaluation_metrics[m], calculate_metric(m, results, relevant)]\n",
    "        for m in evaluation_metrics\n",
    "    ]\n",
    ")\n",
    "\n",
    "with open('results.tex','w') as tf:\n",
    "    tf.write(df.to_latex())\n"
   ]
  },
  {
   "cell_type": "code",
   "execution_count": 25,
   "metadata": {},
   "outputs": [
    {
     "data": {
      "text/plain": [
       "'Precision values:'"
      ]
     },
     "metadata": {},
     "output_type": "display_data"
    },
    {
     "data": {
      "text/plain": [
       "[0.0,\n",
       " 0.0,\n",
       " 0.0,\n",
       " 0.0,\n",
       " 0.0,\n",
       " 0.0,\n",
       " 0.14285714285714285,\n",
       " 0.125,\n",
       " 0.1111111111111111,\n",
       " 0.1]"
      ]
     },
     "metadata": {},
     "output_type": "display_data"
    },
    {
     "data": {
      "text/plain": [
       "'Recall values:'"
      ]
     },
     "metadata": {},
     "output_type": "display_data"
    },
    {
     "data": {
      "text/plain": [
       "[0.0,\n",
       " 0.0,\n",
       " 0.0,\n",
       " 0.0,\n",
       " 0.0,\n",
       " 0.0,\n",
       " 0.09090909090909091,\n",
       " 0.09090909090909091,\n",
       " 0.09090909090909091,\n",
       " 0.09090909090909091]"
      ]
     },
     "metadata": {},
     "output_type": "display_data"
    },
    {
     "data": {
      "text/plain": [
       "'MY Interpolated Recall'"
      ]
     },
     "metadata": {},
     "output_type": "display_data"
    },
    {
     "data": {
      "text/plain": [
       "[0.0,\n",
       " 0.1,\n",
       " 0.2,\n",
       " 0.30000000000000004,\n",
       " 0.4,\n",
       " 0.5,\n",
       " 0.6000000000000001,\n",
       " 0.7000000000000001,\n",
       " 0.8,\n",
       " 0.9,\n",
       " 1.0]"
      ]
     },
     "metadata": {},
     "output_type": "display_data"
    },
    {
     "data": {
      "text/plain": [
       "'Interpolated precision'"
      ]
     },
     "metadata": {},
     "output_type": "display_data"
    },
    {
     "data": {
      "text/plain": [
       "[0.0, 0.1, 0.1, 0.1, 0.1, 0.1, 0.1, 0.1, 0.1, 0.1, 0.1, 0.1]"
      ]
     },
     "metadata": {},
     "output_type": "display_data"
    },
    {
     "data": {
      "text/plain": [
       "'My Interpolated precision'"
      ]
     },
     "metadata": {},
     "output_type": "display_data"
    },
    {
     "data": {
      "text/plain": [
       "[0.0, 0.1, 0.1, 0.1, 0.1, 0.1, 0.1, 0.1, 0.1, 0.1, 0.1]"
      ]
     },
     "metadata": {},
     "output_type": "display_data"
    },
    {
     "data": {
      "image/png": "[encoded data removed]",
      "text/plain": [
       "<Figure size 640x480 with 1 Axes>"
      ]
     },
     "metadata": {},
     "output_type": "display_data"
    },
    {
     "data": {
      "text/plain": [
       "<Figure size 640x480 with 0 Axes>"
      ]
     },
     "metadata": {},
     "output_type": "display_data"
    }
   ],
   "source": [
    "# PRECISION-RECALL CURVE\n",
    "# Calculate precision and recall values as we move down the ranked list\n",
    "precision_values = [\n",
    "    len([\n",
    "        doc \n",
    "        for doc in results[:idx]\n",
    "        if doc['Product_name'][0] in relevant\n",
    "    ]) / idx \n",
    "    for idx, _ in enumerate(results, start=1)\n",
    "]\n",
    "\n",
    "recall_values = [\n",
    "    len([\n",
    "        doc for doc in results[:idx]\n",
    "        if doc['Product_name'][0] in relevant\n",
    "    ]) / len(relevant)\n",
    "    for idx, _ in enumerate(results, start=1)\n",
    "]\n",
    "\n",
    "display(\"Precision values:\", precision_values)\n",
    "display(\"Recall values:\", recall_values)\n",
    "\n",
    "precision_recall_match = {k: v for k,v in zip(recall_values, precision_values)}\n",
    "\n",
    "\n",
    "# Extend recall_values to include traditional steps for a better curve (0.1, 0.2 ...)\n",
    "recall_values.extend([step for step in np.arange(0.0, 1.1, 0.1) if step not in recall_values])\n",
    "recall_values = sorted(set(recall_values))\n",
    "\n",
    "\n",
    "my_interpolated_recall = [step for step in np.arange(0.0, 1.1, 0.1)]\n",
    "display(\"MY Interpolated Recall\", my_interpolated_recall)\n",
    "\n",
    "\n",
    "# Extend matching dict to include these new intermediate steps\n",
    "for idx, step in enumerate(recall_values):\n",
    "    if step not in precision_recall_match:\n",
    "        if recall_values[idx-1] in precision_recall_match:\n",
    "            precision_recall_match[step] = precision_recall_match[recall_values[idx-1]]\n",
    "        else:\n",
    "            if recall_values[idx+1] in precision_recall_match:\n",
    "                precision_recall_match[step] = precision_recall_match[recall_values[idx+1]]\n",
    "            else:\n",
    "                precision_recall_match[step] = precision_recall_match[recall_values[idx+2]]\n",
    "\n",
    "\n",
    "disp = PrecisionRecallDisplay([precision_recall_match.get(r) for r in recall_values], recall_values)\n",
    "\n",
    "my_interpolated_precision = [precision_recall_match.get(r) for r in my_interpolated_recall]\n",
    "display(\"Interpolated precision\", [precision_recall_match.get(r) for r in recall_values])\n",
    "display(\"My Interpolated precision\", my_interpolated_precision)\n",
    "\n",
    "\n",
    "disp.plot()\n",
    "plt.ylim(0, 1.2)\n",
    "plt.show()\n",
    "plt.savefig('precision_recall.png')\n"
   ]
  }
 ],
 "metadata": {
  "kernelspec": {
   "display_name": "Python 3",
   "language": "python",
   "name": "python3"
  },
  "language_info": {
   "codemirror_mode": {
    "name": "ipython",
    "version": 3
   },
   "file_extension": ".py",
   "mimetype": "text/x-python",
   "name": "python",
   "nbconvert_exporter": "python",
   "pygments_lexer": "ipython3",
   "version": "3.11.5"
  }
 },
 "nbformat": 4,
 "nbformat_minor": 2
}
