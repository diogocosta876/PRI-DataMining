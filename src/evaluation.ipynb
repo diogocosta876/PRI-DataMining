{
 "cells": [
  {
   "cell_type": "code",
   "execution_count": 246,
   "metadata": {},
   "outputs": [],
   "source": [
    "# SETUP\n",
    "import matplotlib.pyplot as plt\n",
    "from sklearn.metrics import PrecisionRecallDisplay\n",
    "import numpy as np\n",
    "import json\n",
    "import requests\n",
    "import pandas as pd\n",
    "\n",
    "Q1_QRELS_FILE = \"../query_qrels/query_1.txt\"\n",
    "Q2_QRELS_FILE = \"../query_qrels/query_2.txt\"\n",
    "Q3_QRELS_FILE = \"../query_qrels/query_3.txt\"\n",
    "Q4_QRELS_FILE = \"../query_qrels/query_4.txt\"\n",
    "Q5_QRELS_FILE = \"../query_qrels/query_5.txt\"\n",
    "\n",
    "Queries = [Q1, Q2,Q3, Q4, Q5]\n",
    "\n",
    "Q1 = \"http://localhost:8983/solr/medicines/select?defType=lucene&indent=true&q.op=OR&q=(Antes_de_utilizar%3Aamamentar~3%20AND%20(Antes_de_utilizar%3A%22amamentação%20Não%22~4))%20OR%20(Antes_de_utilizar%3Aaleitamento%20AND%20(Antes_de_utilizar%3A%22aleitamento%20Não%22~4))%20OR%20(Antes_de_utilizar%3Agravidez%20AND%20(Antes_de_utilizar%3A%22grávida%20Não%22%5E2~4))&useParams=%3Djson&wt=json\"\n",
    "Q2 = \"http://localhost:8983/solr/medicines/select?defType=lucene&indent=true&q.op=OR&q=O_que_e_e_para_que_e_utilizado%3Aantibiotico%20AND%20(O_que_e_e_para_que_e_utilizado%3Ainfecao%5E2~4%20AND%20O_que_e_e_para_que_e_utilizado%3Amaxil*%20)&useParams=&wt=json\"\n",
    "Q3 = \"http://localhost:8983/solr/medicines/select?defType=lucene&indent=true&q.op=OR&q=Vias_de_Administracao%3A%22Uso%20oftálmico%22%20AND%20(Duracao_do_Tratamento%3A%22Média%20Duração%22~2%20OR%20Duracao_do_Tratamento%3A%22Curta%20Duração%22%5E2)%20AND%20Generico%3ANão&useParams=&wt=json\"\n",
    "Q4 = \"http://localhost:8983/solr/medicines/select?defType=lucene&indent=true&q.op=OR&q=O_que_e_e_para_que_e_utilizado%3A%22Doenca%20mental%22~0%20OR%20O_que_e_e_para_que_e_utilizado%3Adepressao%20OR%20O_que_e_e_para_que_e_utilizado%3Aproblemas%20mentais%20OR%20O_que_e_e_para_que_e_utilizado%3Aesquizofrenia%20OR%20O_que_e_e_para_que_e_utilizado%3Aansiedade%20OR%20O_que_e_e_para_que_e_utilizado%3Astress%20OR%20O_que_e_e_para_que_e_utilizado%3Aperturbaç*%20OR%20O_que_e_e_para_que_e_utilizado%3Aobsess*%20OR%20O_que_e_e_para_que_e_utilizado%3Acompuls*&useParams=&wt=json\"\n",
    "Q5 = \"http://localhost:8983/solr/medicines/select?defType=lucene&indent=true&q.op=OR&q=(O_que_e_e_para_que_e_utilizado%3A%20%22doença%20coração%22%5E2~3%20OR%20O_que_e_e_para_que_e_utilizado%3A%20%22doença%20pulmonar%22~3)%20AND%20Antes_de_utilizar%3A%20%22não%20crianças%22~6&useParams=&wt=json\"\n",
    "\n",
    "QUERY_URL = Q2\n",
    "QRELS_FILE = Q2_QRELS_FILE"
   ]
  },
  {
   "cell_type": "code",
   "execution_count": 247,
   "metadata": {},
   "outputs": [
    {
     "name": "stdout",
     "output_type": "stream",
     "text": [
      "[{'Product_name': ['Claritromicina Azevedos'], 'Active_substance': 'Clarithromycin', 'Route_of_administration': 'Intravenous Use', 'Product_authorisation_country': 'Portugal', 'Marketing_authorisation_holder': 'Laboratórios Azevedos - Indústria Farmacêutica, S.A.', 'Pharmacovigilance_system_master_file_location': 'Portugal', 'Pharmacovigilance_enquiries_email_address': 'farmacovigilancia@azevedos-sa.pt', 'Pharmacovigilance_enquiries_telephone_number': '+351214725927', 'Lowest_PVP': '6.25', 'Substancia_Ativa_DCI': 'Claritromicina', 'Forma_Farmaceutica': 'Comprimido revestido por película', 'Dosagem': '500 mg', 'Titular_de_AIM': 'Laboratórios Azevedos - Indústria Farmacêutica, S.A.', 'Generico': 'Sim', 'Vias_de_Administracao': 'Via oral', 'Grupo_de_Produto': 'Genérico', 'Numero_de_Processo': '03/H/0190/002', 'AIM': 'Autorizado', 'Data': '03/10/2003', 'Classificacao_Quanto_a_Dispensa': 'MSRM', 'Duracao_do_Tratamento': 'Curta ou Média Duração', 'O_que_e_e_para_que_e_utilizado': 'O que é Claritromicina Azevedos e para que é utilizado\\nClaritromicina Azevedos é um antibiótico, de um grupo chamado Macrólidos, utilizado\\npara o tratamento das seguintes infeções:\\nInfeções do trato respiratório superior:\\nFaringite e amigdalite.\\nSinusite maxilar aguda.\\nOtite média aguda (infeção nos ouvidos).\\nInfeções do trato respiratório inferior:\\nExacerbação bacterial aguda da bronquite crónica.\\nPneumonia.\\nInfeções da pele e tecidos moles.\\nErradicação do Helicobacter pylori (bactéria causadora da úlcera gástrica).\\nPrevenção de infeções em doentes infetados pelo VIH, com contagens de linfócito\\nCD4 inferiores ou iguais a 100/mm3.\\nTratamento de infeções por micobactérias localizadas ou disseminadas.\\n2. ', 'Como_utilizar': 'Como tomar Claritromicina Azevedos).\\nClaritromicina Azevedos com alimentos\\nOs comprimidos de Claritromicina podem ser tomados independentemente das horas\\ndas refeições.\\nGravidez e amamentação\\nSe está grávida ou a amamentar, se pensa estar grávida ou planeia engravidar,\\nconsulte o seu médico ou farmacêutico antes de tomar este medicamento.\\nA Claritromicina não deve ser tomada por mulheres grávidas, exceto se não for\\npossível qualquer terapêutica alternativa.\\nA segurança da utilização da Claritromicina durante a amamentação ainda não foi\\nestabelecida. A Claritromicina é excretada no leite materno.\\nCondução de veículos e utilização de máquinas\\nNão foram estudados os efeitos sobre a capacidade de conduzir e utilizar máquinas.\\n3. Como tomar Claritromicina Azevedos\\nTome este medicamento exatamente como indicado pelo seu médico ou\\nfarmacêutico. Fale com o seu médico ou farmacêutico se tiver dúvidas.APROVADO EM\\n01-04-2021\\nINFARMED\\nInfeções do trato respiratório e infeções da pele e tecidos moles:\\nA posologia recomendada é de 250 mg, duas vezes por dia. Nas infeções mais\\nseveras, a posologia recomendada é de 500 mg, duas vezes por dia.\\nA duração média do tratamento é de 6 a 14 dias.\\nErradicação do H. pylori e prevenção da recorrência de úlcera duodenal:\\nTripla terapia:\\nA dose recomendada são 500 mg de Claritromicina, 2 x dia, Amoxicilina 1000 mg, 2\\nx dia e Omeprazole 20 mg, 1 x dia, durante 7 a 10 dias.\\nDupla terapia:\\nA dose recomendada é 500 mg de Claritromicina, 3 x dia e Omeprazole, 40 mg,\\ndurante 14 dias, seguidos de Omeprazole, 20 mg ou 40 mg diários, por mais 14 dias.\\nInfeções por micobactérias:\\nTratamento:\\nA dose inicial para adultos deve ser de 500 mg, 2 x dia.\\nNas infeções disseminadas ou localizadas (M. avium e M. intracellulare) em adultos,\\nrecomenda-se 1000 mg/dia, repartidas por duas doses.\\nProfilaxia:\\nA dose recomendada de Claritromicina em adultos é de 500 mg, 2 x dia.\\nIdosos:\\nA Claritromicina pode ser utilizada em doentes idosos, com função renal normal, nas\\ndoses habitualmente recomendadas para o adulto e devidamente aconselhado pelo\\nmédico assistente.\\nInsuficientes renais:\\nNos doentes com insuficiência renal, com níveis de creatinina inferiores a 30 ml/min,\\na dose de Claritromicina deve ser reduzida para metade, isto é, 250 mg, uma vez\\npor dia ou 250 mg duas vezes por dia nas infeções mais severas. Nestes doentes, o\\ntratamento não deve prosseguir para além dos 14 dias.\\nNos doentes com insuficiência renal, recebendo tratamento concomitante com\\nRitonavir deverão fazer-se os seguintes ajustes na posologia:\\nNíveis de creatinina 30-60 ml/min - reduzir a dose de Claritromicina para metade;\\nNíveis de creatinina inferiores a 30 ml/min - reduzir a dose de Claritromicina em\\n75%;\\nDoses de Claritromicina superiores a 1 g/dia não devem ser coadministradas com\\nRitonavir.\\nInsuficientes hepáticos:\\nA claritromicina pode ser administrada sem ajustes posológicos, na presença de\\ninsuficiência hepática, se a função renal estiver normal.\\nO comprimido pode ser dividido em doses iguais.\\nSe tomar mais Claritromicina Azevedos do que deveria\\nA ingestão de grandes quantidades de Claritromicina pode provocar sintomas\\ngastrointestinais.\\nCaso se verifique uma toma excessiva, esta deve ser tratada com a eliminação do\\nproduto não absorvido e com medidas de suporte.APROVADO EM\\n01-04-2021\\nINFARMED\\nUm doente com antecedentes de doença bipolar ingeriu 8 gramas de Claritromicina,\\ntendo apresentado estado mental alterado, comportamento paranoico, hipocalemia e\\nhipoxemia.\\nA exemplo do que acontece com outros Macrólidos, não se prevê que os níveis\\nséricos da Claritromicina sejam grandemente afetados pela hemodiálise ou diálise\\nperitoneal.\\nCaso se tenha esquecido de tomar Claritromicina Azevedos\\nTome a dose seguinte, como estava previsto.\\nNão tome uma dose a dobrar para compensar uma dose que se esqueceu de tomar.\\nSe parar de tomar Claritromicina Azevedos\\nPor norma, os antibióticos devem ser tomados até ao fim. Tome este medicamento\\nexatamente como indicado pelo seu médico ou farmacêutico.\\nSe parar de tomar Claritromicina Azevedos antes do tempo estabelecido pelo seu\\nmédico, pode não conseguir resolver a sua doença e pode contribuir para o\\ndesenvolvimento de resistências das bactérias aos antibióticos.\\nCaso ainda tenha dúvidas sobre a utilização deste medicamento, fale com o seu\\nmédico ou farmacêutico.\\n4. ', 'Efeitos_secundarios': 'Efeitos indesejáveis possíveis\\nComo todos os medicamentos, este medicamento pode causar efeitos indesejáveis,\\nembora estes não se manifestem em todas as pessoas.\\nNos estudos clínicos realizados com a Claritromicina, as reações mais\\nfrequentemente descritas foram de tipo gastrointestinal, nomeadamente náuseas,\\ndispepsia, dor abdominal, vómitos e diarreia.\\nOutros efeitos incluíram cefaleias, alteração no paladar e aumento transitório das\\nenzimas hepáticas.\\nExperiência pós-comercialização\\nDisfunção hepática, incluindo aumento nas enzimas hepáticas e hepatite colestática\\ne/ou hepatocelular, com ou sem icterícia, foi raramente descrita com Claritromicina.\\nEsta disfunção hepática pode ser grave, sendo geralmente reversível. Muito\\nraramente foi descrita insuficiência hepática fatal, geralmente associada a doenças\\nsubjacentes e/ou a outros tratamentos concomitantes.\\nForam descritas reações alérgicas, desde urticária e ligeiras erupções cutâneas até\\nanafilaxia e Síndroma de Stevens-Johnson/necrólise tóxica epidérmica.\\nForam descritos efeitos ao nível do sistema nervoso central incluindo tonturas,\\nvertigens, ansiedade, insónias, pesadelos, zumbidos, confusão, desorientação,\\nalucinações, psicose e despersonalização; no entanto, não foi estabelecida qualquer\\nrelação de causa e efeito com o produto.\\nForam descritos casos de diminuição na capacidade de audição, que geralmente é\\nreversível após a suspensão do tratamento. Foram também descritos casos de\\nalteração no sentido do olfato, geralmente associados a alteração no paladar.APROVADO EM\\n01-04-2021\\nINFARMED\\nCom o tratamento com Claritromicina foram descritas glossite, estomatite, monilia\\noral, alteração na cor da língua e alteração na cor dos dentes (geralmente reversível\\ncom limpeza profissional).\\nForam descritos raros casos de hipoglicemia, tendo alguns ocorrido em doentes a\\nreceber tratamento concomitante com hipoglicémicos orais ou insulina.\\nForam descritos casos isolados de trombocitopenia.\\nComo referido para outros macrólidos, prolongamento do intervalo QT, taquicardia\\nventricular e “Torsades de Pointes” foram raramente descritos com Claritromicina.\\nForam descritos casos raros de pancreatite e convulsões.\\nContacte imediatamente um médico se tiver uma reação cutânea grave: erupção\\ncutânea avermelhada descamativa com pequenos inchaços debaixo da pele e bolhas\\n(pustulose exantemática). A frequência deste efeito indesejável é desconhecida (não\\npode ser calculada a partir dos dados disponíveis).\\nDoentes Imunocomprometidos:\\nNestes doentes tratados com doses mais elevadas de Claritromicina, durante longos\\nperíodos de tempo, é difícil distinguir entre as reações associadas à administração do\\nproduto e os sinais da doença por VIH ou doenças subjacentes.\\nEm doentes adultos nos quais se administraram doses diárias de 1000 mg de\\nClaritromicina foram descritas com mais frequência náuseas, vómitos, alteração no\\npaladar, dor abdominal, diarreia, erupções, flatulência, cefaleias, obstipação,\\nproblemas auditivos e aumentos nas SGOT e SGPT.\\nVerificou-se com menor frequência o aparecimento de dispneia, insónias e secura da\\nboca.\\nComunicação de efeitos indesejáveis\\nSe tiver quaisquer efeitos indesejáveis, incluindo possíveis efeitos indesejáveis não\\nindicados neste folheto, fale com o seu médico ou farmacêutico ou enfermeiro.\\nTambém poderá comunicar efeitos indesejáveis diretamente ao INFARMED, I.P.\\natravés dos contactos abaixo. Ao comunicar efeitos indesejáveis, estará a ajudar a\\nfornecer mais informações sobre a segurança deste medicamento.\\nSítio da internet: http://www.infarmed.pt/web/infarmed/submissaoram\\n(preferencialmente) ou através dos seguintes contactos:\\nDireção de Gestão do Risco de Medicamentos\\nParque da Saúde de Lisboa, Av. Brasil 53\\n1749-004 Lisboa\\nTel: +351 21 798 7373\\nLinha do Medicamento: 800222444 (gratuita)\\nE-mail: farmacovigilancia@infarmed.pt\\n5. ', 'Como_conservar': 'Como conservar Claritromicina Azevedos\\nConservar os comprimidos a temperaturas inferiores a 30ºC, em local seco e ao\\nabrigo da luz.APROVADO EM\\n01-04-2021\\nINFARMED\\nManter este medicamento fora da vista e do alcance das crianças.\\nNão utilize este medicamento após o prazo de validade impresso na embalagem\\nexterior e no blister. O prazo de validade corresponde ao último dia do mês indicado.\\nNão deite fora quaisquer medicamentos na canalização ou no lixo doméstico.\\nPergunte ao seu farmacêutico como deitar fora os medicamentos que já não utiliza.\\nEstas medidas ajudarão a proteger o ambiente.\\n6. ', 'Outras_informacoes': 'Conteúdo da embalagem e outras informações\\nQual a composição de Claritromicina Azevedos\\n- A substância ativa é a claritromicina\\n- Os outros componentes são: Amido pré-gelatinizado; Celulose microcristalina;\\nCroscarmelose sódica; Estearato de magnésio; Povidona 25; Sílica coloidal anidra;\\nDióxido de titânio (E-171); Hidroxipropilmetilcelulose; Propilenoglicol; Talco.\\nQual o aspeto de Claritromicina Azevedos e conteúdo da embalagem\\nComprimidos, revestidos por película, acondicionados em blister.\\nEmbalagem de 10, 12, 16, 20 ou 30 comprimidos.\\nÉ possível que não sejam comercializadas todas as apresentações.\\nTitular da Autorização de Introdução no Mercado e Fabricante\\nLaboratórios Azevedos-Indústria Farmacêutica, S.A.\\nEstrada Nacional 117-2 Alfragide\\n2614-503 Amadora\\nPortugal\\nFabricante\\nSofarimex- Indústria Química e Farmacêutica, S.A.\\nAv. das Indústrias, Alto de Colaride, Agualva\\n2735-213 Cacém\\nPortugal\\nEste folheto foi revisto pela última vez em', 'id': '7f34bd07-25e2-4906-a11b-63b02ebe804a', 'Antes_de_utilizar': 'O que precisa de saber antes de tomar Claritromicina Azevedos\\nNão tome Claritromicina Azevedos:\\n- se tem alergia (hipersensibilidade) à claritromicina ou a qualquer outro componente\\ndeste medicamento (indicados na secção 6).APROVADO EM\\n01-04-2021\\nINFARMED\\n- se está a tomar medicamentos que tenham como substância ativa: astemizole,\\ncisapride, pimozide e terfenadina (Ver Outros medicamentos e Claritromicina\\nAzevedos).\\n- se estiver a tomar um medicamento que contém lomitapida;\\n- se tiver níveis anormalmente baixos de potássio ou magnésio no sangue\\n(hipocaliemia ou hipomagnesemia).\\nAdvertências e precauções\\nFale com o seu médico ou farmacêutico antes de tomar Claritromicina Azevedos.\\nA claritromicina é metabolizada sobretudo pelo fígado.\\nA claritromicina pode ser administrada sem ajustes posológicos, na presença de\\ninsuficiência hepática, se a função renal estiver normal. Contudo, em presença de\\nqualquer alteração da função renal, com ou sem alteração da função hepática, terá\\nsempre que ser feito um ajuste posológico.\\nDeverá ser considerada a possibilidade de resistência cruzada entre a Claritromicina\\ne outros Macrólidos, assim como com a Lincomicina e Clindamicina.\\nTem sido descrita colite pseudomembranosa com quase todos os fármacos\\nantibacterianos, incluindo os Macrólidos, que pode ser de gravidade ligeira até de\\ncompromisso vital. Por conseguinte, é importante considerar-se este diagnóstico, em\\npresença de diarreia subsequente à administração de agentes antimicrobianos.\\nA claritromicina não deve ser administrada em associação com a ranitidina (citrato\\nde bismuto) em doentes com história de porfíria.\\nA administração concomitante de claritromicina e ranitidina (citrato de bismuto)\\nresulta num aumento das concentrações plasmáticas de ranitidina, num aumento das\\nconcentrações plasmáticas de bismuto e no aumento das concentrações plasmáticas\\ndo 14-hidroxi-claritromicina.\\nCrianças:\\nNão se recomenda a administração da Claritromicina (a 250 ou 500 mg) em crianças\\ncom idade inferior a 12 anos.\\nOutros medicamentos e Claritromicina Azevedos\\nInforme o seu médico ou farmacêutico se estiver a tomar, ou tiver tomado\\nrecentemente, ou se vier a tomar algum dos seguintes medicamentos:\\n- Varfarina ou qualquer outro anticoagulante, por ex. dabigatrano, rivaroxabano,\\napixabano (utilizados para reduzir a coagulação do sangue)\\nDados disponíveis indicam que a Claritromicina é essencialmente metabolizada pela\\nisoenzima 3A (CYP3A) do citocrómio P450. O metabolismo de outros fármacos por\\neste sistema pode ser inibido pelo uso concomitante de Claritromicina e pode estar\\nassociado a aumento nos níveis séricos desses fármacos.\\nSabe-se ou suspeita-se que os fármacos ou classes seguintes são metabolizadas pela\\nisoenzima CYP3A: alprazolam, astemizole, carbamazepina, cilostazol, cisaprida,\\nciclosporina, disopiramida, alcaloides de cravagem de centeio, lovastatina,\\nmetilprednisolona, midazolam, omeprazole, anticoagulantes orais (por ex. varfarina,\\nrivaroxabano, apixabano), pimozide, quinidina, rifabutina, sildenafil, sinvastatina,\\ntacrolimus, terfenadina, triazolam e vimblastina. Fármacos com interação porAPROVADO EM\\n01-04-2021\\nINFARMED\\nmecanismos semelhantes através de outras isoenzimas no sistema do citocrómio\\nP450 incluem a fenitoína, teofilina e valproato.\\nComo acontece com outros antibióticos macrólidos, o uso da Claritromicina em\\ndoentes que estejam a receber tratamento com fármacos metabolizados pelo\\nsistema do citocrómio P450 pode estar associado a aumento nos níveis séricos\\ndesses fármacos.\\nRaramente foi descrita rabdomiólise com a coadministração de Claritromicina e\\ninibidores da redutase HMG-CoA, como por exemplo a lovastatina e sinvastatina.\\nForam descritos níveis elevados de cisapride e de pimozide quando estes fármacos\\nforam administrados concomitantemente com Claritromicina, que podem resultar em\\nprolongamento do intervalo QT e arritmias cardíacas, incluindo taquicardia\\nventricular, fibrilhação ventricular e “Torsades de Pointes”.\\nResultados semelhantes foram descritos com a utilização concomitante de Macrólidos\\ncom terfenadina e astemizole.\\nForam descritos casos de Torsades de Pointes que ocorreram com o uso\\nconcomitante de Claritromicina e quinidina ou disopiramida. Os níveis séricos destes\\nmedicamentos devem ser monitorizados durante o tratamento com a Claritromicina.\\nCom a administração de Claritromicina e digoxina foram descritas concentrações\\nséricas elevadas de digoxina. Deverá ser considerada a monitorização dos níveis\\nséricos de digoxina.\\nA administração concomitante de Claritromicina com a zidovudina em adultos pode\\nresultar na redução dos níveis plasmáticos desta. Para evitar esta interação\\naconselha-se espaçar as doses de Claritromicina e zidovudina.\\nCom a administração de Claritromicina e Ritonavir poderá ser necessário reduzir a\\ndose de Claritromicina (Ver 3. ', '_version_': 1782676756251017216}, {'Product_name': ['Claritromicina Azevedos'], 'Active_substance': 'Clarithromycin', 'Route_of_administration': 'Oral Use', 'Product_authorisation_country': 'Portugal', 'Marketing_authorisation_holder': 'Laboratórios Azevedos - Indústria Farmacêutica, S.A.', 'Pharmacovigilance_system_master_file_location': 'Portugal', 'Pharmacovigilance_enquiries_email_address': 'farmacovigilancia@azevedos-sa.pt', 'Pharmacovigilance_enquiries_telephone_number': '+351214725927', 'Lowest_PVP': '6.25', 'Substancia_Ativa_DCI': 'Claritromicina', 'Forma_Farmaceutica': 'Comprimido revestido por película', 'Dosagem': '500 mg', 'Titular_de_AIM': 'Laboratórios Azevedos - Indústria Farmacêutica, S.A.', 'Generico': 'Sim', 'Vias_de_Administracao': 'Via oral', 'Grupo_de_Produto': 'Genérico', 'Numero_de_Processo': '03/H/0190/002', 'AIM': 'Autorizado', 'Data': '03/10/2003', 'Classificacao_Quanto_a_Dispensa': 'MSRM', 'Duracao_do_Tratamento': 'Curta ou Média Duração', 'O_que_e_e_para_que_e_utilizado': 'O que é Claritromicina Azevedos e para que é utilizado\\nClaritromicina Azevedos é um antibiótico, de um grupo chamado Macrólidos, utilizado\\npara o tratamento das seguintes infeções:\\nInfeções do trato respiratório superior:\\nFaringite e amigdalite.\\nSinusite maxilar aguda.\\nOtite média aguda (infeção nos ouvidos).\\nInfeções do trato respiratório inferior:\\nExacerbação bacterial aguda da bronquite crónica.\\nPneumonia.\\nInfeções da pele e tecidos moles.\\nErradicação do Helicobacter pylori (bactéria causadora da úlcera gástrica).\\nPrevenção de infeções em doentes infetados pelo VIH, com contagens de linfócito\\nCD4 inferiores ou iguais a 100/mm3.\\nTratamento de infeções por micobactérias localizadas ou disseminadas.\\n2. ', 'Como_utilizar': 'Como tomar Claritromicina Azevedos).\\nClaritromicina Azevedos com alimentos\\nOs comprimidos de Claritromicina podem ser tomados independentemente das horas\\ndas refeições.\\nGravidez e amamentação\\nSe está grávida ou a amamentar, se pensa estar grávida ou planeia engravidar,\\nconsulte o seu médico ou farmacêutico antes de tomar este medicamento.\\nA Claritromicina não deve ser tomada por mulheres grávidas, exceto se não for\\npossível qualquer terapêutica alternativa.\\nA segurança da utilização da Claritromicina durante a amamentação ainda não foi\\nestabelecida. A Claritromicina é excretada no leite materno.\\nCondução de veículos e utilização de máquinas\\nNão foram estudados os efeitos sobre a capacidade de conduzir e utilizar máquinas.\\n3. Como tomar Claritromicina Azevedos\\nTome este medicamento exatamente como indicado pelo seu médico ou\\nfarmacêutico. Fale com o seu médico ou farmacêutico se tiver dúvidas.APROVADO EM\\n01-04-2021\\nINFARMED\\nInfeções do trato respiratório e infeções da pele e tecidos moles:\\nA posologia recomendada é de 250 mg, duas vezes por dia. Nas infeções mais\\nseveras, a posologia recomendada é de 500 mg, duas vezes por dia.\\nA duração média do tratamento é de 6 a 14 dias.\\nErradicação do H. pylori e prevenção da recorrência de úlcera duodenal:\\nTripla terapia:\\nA dose recomendada são 500 mg de Claritromicina, 2 x dia, Amoxicilina 1000 mg, 2\\nx dia e Omeprazole 20 mg, 1 x dia, durante 7 a 10 dias.\\nDupla terapia:\\nA dose recomendada é 500 mg de Claritromicina, 3 x dia e Omeprazole, 40 mg,\\ndurante 14 dias, seguidos de Omeprazole, 20 mg ou 40 mg diários, por mais 14 dias.\\nInfeções por micobactérias:\\nTratamento:\\nA dose inicial para adultos deve ser de 500 mg, 2 x dia.\\nNas infeções disseminadas ou localizadas (M. avium e M. intracellulare) em adultos,\\nrecomenda-se 1000 mg/dia, repartidas por duas doses.\\nProfilaxia:\\nA dose recomendada de Claritromicina em adultos é de 500 mg, 2 x dia.\\nIdosos:\\nA Claritromicina pode ser utilizada em doentes idosos, com função renal normal, nas\\ndoses habitualmente recomendadas para o adulto e devidamente aconselhado pelo\\nmédico assistente.\\nInsuficientes renais:\\nNos doentes com insuficiência renal, com níveis de creatinina inferiores a 30 ml/min,\\na dose de Claritromicina deve ser reduzida para metade, isto é, 250 mg, uma vez\\npor dia ou 250 mg duas vezes por dia nas infeções mais severas. Nestes doentes, o\\ntratamento não deve prosseguir para além dos 14 dias.\\nNos doentes com insuficiência renal, recebendo tratamento concomitante com\\nRitonavir deverão fazer-se os seguintes ajustes na posologia:\\nNíveis de creatinina 30-60 ml/min - reduzir a dose de Claritromicina para metade;\\nNíveis de creatinina inferiores a 30 ml/min - reduzir a dose de Claritromicina em\\n75%;\\nDoses de Claritromicina superiores a 1 g/dia não devem ser coadministradas com\\nRitonavir.\\nInsuficientes hepáticos:\\nA claritromicina pode ser administrada sem ajustes posológicos, na presença de\\ninsuficiência hepática, se a função renal estiver normal.\\nO comprimido pode ser dividido em doses iguais.\\nSe tomar mais Claritromicina Azevedos do que deveria\\nA ingestão de grandes quantidades de Claritromicina pode provocar sintomas\\ngastrointestinais.\\nCaso se verifique uma toma excessiva, esta deve ser tratada com a eliminação do\\nproduto não absorvido e com medidas de suporte.APROVADO EM\\n01-04-2021\\nINFARMED\\nUm doente com antecedentes de doença bipolar ingeriu 8 gramas de Claritromicina,\\ntendo apresentado estado mental alterado, comportamento paranoico, hipocalemia e\\nhipoxemia.\\nA exemplo do que acontece com outros Macrólidos, não se prevê que os níveis\\nséricos da Claritromicina sejam grandemente afetados pela hemodiálise ou diálise\\nperitoneal.\\nCaso se tenha esquecido de tomar Claritromicina Azevedos\\nTome a dose seguinte, como estava previsto.\\nNão tome uma dose a dobrar para compensar uma dose que se esqueceu de tomar.\\nSe parar de tomar Claritromicina Azevedos\\nPor norma, os antibióticos devem ser tomados até ao fim. Tome este medicamento\\nexatamente como indicado pelo seu médico ou farmacêutico.\\nSe parar de tomar Claritromicina Azevedos antes do tempo estabelecido pelo seu\\nmédico, pode não conseguir resolver a sua doença e pode contribuir para o\\ndesenvolvimento de resistências das bactérias aos antibióticos.\\nCaso ainda tenha dúvidas sobre a utilização deste medicamento, fale com o seu\\nmédico ou farmacêutico.\\n4. ', 'Efeitos_secundarios': 'Efeitos indesejáveis possíveis\\nComo todos os medicamentos, este medicamento pode causar efeitos indesejáveis,\\nembora estes não se manifestem em todas as pessoas.\\nNos estudos clínicos realizados com a Claritromicina, as reações mais\\nfrequentemente descritas foram de tipo gastrointestinal, nomeadamente náuseas,\\ndispepsia, dor abdominal, vómitos e diarreia.\\nOutros efeitos incluíram cefaleias, alteração no paladar e aumento transitório das\\nenzimas hepáticas.\\nExperiência pós-comercialização\\nDisfunção hepática, incluindo aumento nas enzimas hepáticas e hepatite colestática\\ne/ou hepatocelular, com ou sem icterícia, foi raramente descrita com Claritromicina.\\nEsta disfunção hepática pode ser grave, sendo geralmente reversível. Muito\\nraramente foi descrita insuficiência hepática fatal, geralmente associada a doenças\\nsubjacentes e/ou a outros tratamentos concomitantes.\\nForam descritas reações alérgicas, desde urticária e ligeiras erupções cutâneas até\\nanafilaxia e Síndroma de Stevens-Johnson/necrólise tóxica epidérmica.\\nForam descritos efeitos ao nível do sistema nervoso central incluindo tonturas,\\nvertigens, ansiedade, insónias, pesadelos, zumbidos, confusão, desorientação,\\nalucinações, psicose e despersonalização; no entanto, não foi estabelecida qualquer\\nrelação de causa e efeito com o produto.\\nForam descritos casos de diminuição na capacidade de audição, que geralmente é\\nreversível após a suspensão do tratamento. Foram também descritos casos de\\nalteração no sentido do olfato, geralmente associados a alteração no paladar.APROVADO EM\\n01-04-2021\\nINFARMED\\nCom o tratamento com Claritromicina foram descritas glossite, estomatite, monilia\\noral, alteração na cor da língua e alteração na cor dos dentes (geralmente reversível\\ncom limpeza profissional).\\nForam descritos raros casos de hipoglicemia, tendo alguns ocorrido em doentes a\\nreceber tratamento concomitante com hipoglicémicos orais ou insulina.\\nForam descritos casos isolados de trombocitopenia.\\nComo referido para outros macrólidos, prolongamento do intervalo QT, taquicardia\\nventricular e “Torsades de Pointes” foram raramente descritos com Claritromicina.\\nForam descritos casos raros de pancreatite e convulsões.\\nContacte imediatamente um médico se tiver uma reação cutânea grave: erupção\\ncutânea avermelhada descamativa com pequenos inchaços debaixo da pele e bolhas\\n(pustulose exantemática). A frequência deste efeito indesejável é desconhecida (não\\npode ser calculada a partir dos dados disponíveis).\\nDoentes Imunocomprometidos:\\nNestes doentes tratados com doses mais elevadas de Claritromicina, durante longos\\nperíodos de tempo, é difícil distinguir entre as reações associadas à administração do\\nproduto e os sinais da doença por VIH ou doenças subjacentes.\\nEm doentes adultos nos quais se administraram doses diárias de 1000 mg de\\nClaritromicina foram descritas com mais frequência náuseas, vómitos, alteração no\\npaladar, dor abdominal, diarreia, erupções, flatulência, cefaleias, obstipação,\\nproblemas auditivos e aumentos nas SGOT e SGPT.\\nVerificou-se com menor frequência o aparecimento de dispneia, insónias e secura da\\nboca.\\nComunicação de efeitos indesejáveis\\nSe tiver quaisquer efeitos indesejáveis, incluindo possíveis efeitos indesejáveis não\\nindicados neste folheto, fale com o seu médico ou farmacêutico ou enfermeiro.\\nTambém poderá comunicar efeitos indesejáveis diretamente ao INFARMED, I.P.\\natravés dos contactos abaixo. Ao comunicar efeitos indesejáveis, estará a ajudar a\\nfornecer mais informações sobre a segurança deste medicamento.\\nSítio da internet: http://www.infarmed.pt/web/infarmed/submissaoram\\n(preferencialmente) ou através dos seguintes contactos:\\nDireção de Gestão do Risco de Medicamentos\\nParque da Saúde de Lisboa, Av. Brasil 53\\n1749-004 Lisboa\\nTel: +351 21 798 7373\\nLinha do Medicamento: 800222444 (gratuita)\\nE-mail: farmacovigilancia@infarmed.pt\\n5. ', 'Como_conservar': 'Como conservar Claritromicina Azevedos\\nConservar os comprimidos a temperaturas inferiores a 30ºC, em local seco e ao\\nabrigo da luz.APROVADO EM\\n01-04-2021\\nINFARMED\\nManter este medicamento fora da vista e do alcance das crianças.\\nNão utilize este medicamento após o prazo de validade impresso na embalagem\\nexterior e no blister. O prazo de validade corresponde ao último dia do mês indicado.\\nNão deite fora quaisquer medicamentos na canalização ou no lixo doméstico.\\nPergunte ao seu farmacêutico como deitar fora os medicamentos que já não utiliza.\\nEstas medidas ajudarão a proteger o ambiente.\\n6. ', 'Outras_informacoes': 'Conteúdo da embalagem e outras informações\\nQual a composição de Claritromicina Azevedos\\n- A substância ativa é a claritromicina\\n- Os outros componentes são: Amido pré-gelatinizado; Celulose microcristalina;\\nCroscarmelose sódica; Estearato de magnésio; Povidona 25; Sílica coloidal anidra;\\nDióxido de titânio (E-171); Hidroxipropilmetilcelulose; Propilenoglicol; Talco.\\nQual o aspeto de Claritromicina Azevedos e conteúdo da embalagem\\nComprimidos, revestidos por película, acondicionados em blister.\\nEmbalagem de 10, 12, 16, 20 ou 30 comprimidos.\\nÉ possível que não sejam comercializadas todas as apresentações.\\nTitular da Autorização de Introdução no Mercado e Fabricante\\nLaboratórios Azevedos-Indústria Farmacêutica, S.A.\\nEstrada Nacional 117-2 Alfragide\\n2614-503 Amadora\\nPortugal\\nFabricante\\nSofarimex- Indústria Química e Farmacêutica, S.A.\\nAv. das Indústrias, Alto de Colaride, Agualva\\n2735-213 Cacém\\nPortugal\\nEste folheto foi revisto pela última vez em', 'id': '894aca31-c4bf-4ddb-8ff3-db8515727a66', 'Antes_de_utilizar': 'O que precisa de saber antes de tomar Claritromicina Azevedos\\nNão tome Claritromicina Azevedos:\\n- se tem alergia (hipersensibilidade) à claritromicina ou a qualquer outro componente\\ndeste medicamento (indicados na secção 6).APROVADO EM\\n01-04-2021\\nINFARMED\\n- se está a tomar medicamentos que tenham como substância ativa: astemizole,\\ncisapride, pimozide e terfenadina (Ver Outros medicamentos e Claritromicina\\nAzevedos).\\n- se estiver a tomar um medicamento que contém lomitapida;\\n- se tiver níveis anormalmente baixos de potássio ou magnésio no sangue\\n(hipocaliemia ou hipomagnesemia).\\nAdvertências e precauções\\nFale com o seu médico ou farmacêutico antes de tomar Claritromicina Azevedos.\\nA claritromicina é metabolizada sobretudo pelo fígado.\\nA claritromicina pode ser administrada sem ajustes posológicos, na presença de\\ninsuficiência hepática, se a função renal estiver normal. Contudo, em presença de\\nqualquer alteração da função renal, com ou sem alteração da função hepática, terá\\nsempre que ser feito um ajuste posológico.\\nDeverá ser considerada a possibilidade de resistência cruzada entre a Claritromicina\\ne outros Macrólidos, assim como com a Lincomicina e Clindamicina.\\nTem sido descrita colite pseudomembranosa com quase todos os fármacos\\nantibacterianos, incluindo os Macrólidos, que pode ser de gravidade ligeira até de\\ncompromisso vital. Por conseguinte, é importante considerar-se este diagnóstico, em\\npresença de diarreia subsequente à administração de agentes antimicrobianos.\\nA claritromicina não deve ser administrada em associação com a ranitidina (citrato\\nde bismuto) em doentes com história de porfíria.\\nA administração concomitante de claritromicina e ranitidina (citrato de bismuto)\\nresulta num aumento das concentrações plasmáticas de ranitidina, num aumento das\\nconcentrações plasmáticas de bismuto e no aumento das concentrações plasmáticas\\ndo 14-hidroxi-claritromicina.\\nCrianças:\\nNão se recomenda a administração da Claritromicina (a 250 ou 500 mg) em crianças\\ncom idade inferior a 12 anos.\\nOutros medicamentos e Claritromicina Azevedos\\nInforme o seu médico ou farmacêutico se estiver a tomar, ou tiver tomado\\nrecentemente, ou se vier a tomar algum dos seguintes medicamentos:\\n- Varfarina ou qualquer outro anticoagulante, por ex. dabigatrano, rivaroxabano,\\napixabano (utilizados para reduzir a coagulação do sangue)\\nDados disponíveis indicam que a Claritromicina é essencialmente metabolizada pela\\nisoenzima 3A (CYP3A) do citocrómio P450. O metabolismo de outros fármacos por\\neste sistema pode ser inibido pelo uso concomitante de Claritromicina e pode estar\\nassociado a aumento nos níveis séricos desses fármacos.\\nSabe-se ou suspeita-se que os fármacos ou classes seguintes são metabolizadas pela\\nisoenzima CYP3A: alprazolam, astemizole, carbamazepina, cilostazol, cisaprida,\\nciclosporina, disopiramida, alcaloides de cravagem de centeio, lovastatina,\\nmetilprednisolona, midazolam, omeprazole, anticoagulantes orais (por ex. varfarina,\\nrivaroxabano, apixabano), pimozide, quinidina, rifabutina, sildenafil, sinvastatina,\\ntacrolimus, terfenadina, triazolam e vimblastina. Fármacos com interação porAPROVADO EM\\n01-04-2021\\nINFARMED\\nmecanismos semelhantes através de outras isoenzimas no sistema do citocrómio\\nP450 incluem a fenitoína, teofilina e valproato.\\nComo acontece com outros antibióticos macrólidos, o uso da Claritromicina em\\ndoentes que estejam a receber tratamento com fármacos metabolizados pelo\\nsistema do citocrómio P450 pode estar associado a aumento nos níveis séricos\\ndesses fármacos.\\nRaramente foi descrita rabdomiólise com a coadministração de Claritromicina e\\ninibidores da redutase HMG-CoA, como por exemplo a lovastatina e sinvastatina.\\nForam descritos níveis elevados de cisapride e de pimozide quando estes fármacos\\nforam administrados concomitantemente com Claritromicina, que podem resultar em\\nprolongamento do intervalo QT e arritmias cardíacas, incluindo taquicardia\\nventricular, fibrilhação ventricular e “Torsades de Pointes”.\\nResultados semelhantes foram descritos com a utilização concomitante de Macrólidos\\ncom terfenadina e astemizole.\\nForam descritos casos de Torsades de Pointes que ocorreram com o uso\\nconcomitante de Claritromicina e quinidina ou disopiramida. Os níveis séricos destes\\nmedicamentos devem ser monitorizados durante o tratamento com a Claritromicina.\\nCom a administração de Claritromicina e digoxina foram descritas concentrações\\nséricas elevadas de digoxina. Deverá ser considerada a monitorização dos níveis\\nséricos de digoxina.\\nA administração concomitante de Claritromicina com a zidovudina em adultos pode\\nresultar na redução dos níveis plasmáticos desta. Para evitar esta interação\\naconselha-se espaçar as doses de Claritromicina e zidovudina.\\nCom a administração de Claritromicina e Ritonavir poderá ser necessário reduzir a\\ndose de Claritromicina (Ver 3. ', '_version_': 1782676756256260096}]\n"
     ]
    }
   ],
   "source": [
    "# Read qrels to extract relevant documents\n",
    "relevant = list(map(lambda el: el.strip(), open(QRELS_FILE).readlines()))\n",
    "# Get query results from Solr instance\n",
    "results = requests.get(QUERY_URL).json()['response']['docs']\n",
    "\n",
    "print(results)"
   ]
  },
  {
   "cell_type": "code",
   "execution_count": 248,
   "metadata": {},
   "outputs": [],
   "source": [
    "# METRICS TABLE\n",
    "# Define custom decorator to automatically calculate metric based on key\n",
    "metrics = {}\n",
    "metric = lambda f: metrics.setdefault(f.__name__, f)\n",
    "\n",
    "@metric\n",
    "def ap(results, relevant):\n",
    "    \"\"\"Average Precision\"\"\"\n",
    "    precision_values = []\n",
    "    relevant_count = 0\n",
    "\n",
    "    for idx, doc in enumerate(results):\n",
    "        if doc['Product_name'][0] in relevant:\n",
    "            relevant_count += 1\n",
    "            precision_at_k = relevant_count / (idx + 1)\n",
    "            precision_values.append(precision_at_k)\n",
    "\n",
    "    if not precision_values:\n",
    "        return 0.0\n",
    "\n",
    "    return sum(precision_values)/len(precision_values)\n",
    "\n",
    "@metric\n",
    "def p10(results, relevant, n=10):\n",
    "    \"\"\"Precision at N\"\"\"\n",
    "    return len([doc for doc in results[:n] if doc['Product_name'][0] in relevant])/n\n",
    "\n",
    "def calculate_metric(key, results, relevant):\n",
    "    return metrics[key](results, relevant)\n",
    "\n",
    "# Define metrics to be calculated\n",
    "evaluation_metrics = {\n",
    "    'ap': 'Average Precision',\n",
    "    'p10': 'Precision at 10 (P@10)'\n",
    "}"
   ]
  },
  {
   "cell_type": "code",
   "execution_count": 249,
   "metadata": {},
   "outputs": [],
   "source": [
    "# Calculate all metrics and export results as LaTeX table\n",
    "df = pd.DataFrame([['Metric','Value']] +\n",
    "    [\n",
    "        [evaluation_metrics[m], calculate_metric(m, results, relevant)]\n",
    "        for m in evaluation_metrics\n",
    "    ]\n",
    ")\n",
    "\n",
    "with open('results.tex','w') as tf:\n",
    "    tf.write(df.to_latex())\n"
   ]
  },
  {
   "cell_type": "code",
   "execution_count": 250,
   "metadata": {},
   "outputs": [
    {
     "data": {
      "text/plain": [
       "'Precision values:'"
      ]
     },
     "metadata": {},
     "output_type": "display_data"
    },
    {
     "data": {
      "text/plain": [
       "[1.0, 1.0]"
      ]
     },
     "metadata": {},
     "output_type": "display_data"
    },
    {
     "data": {
      "text/plain": [
       "'Recall values:'"
      ]
     },
     "metadata": {},
     "output_type": "display_data"
    },
    {
     "data": {
      "text/plain": [
       "[0.5, 1.0]"
      ]
     },
     "metadata": {},
     "output_type": "display_data"
    },
    {
     "data": {
      "text/plain": [
       "'MY Interpolated Recall'"
      ]
     },
     "metadata": {},
     "output_type": "display_data"
    },
    {
     "data": {
      "text/plain": [
       "[0.0,\n",
       " 0.1,\n",
       " 0.2,\n",
       " 0.30000000000000004,\n",
       " 0.4,\n",
       " 0.5,\n",
       " 0.6000000000000001,\n",
       " 0.7000000000000001,\n",
       " 0.8,\n",
       " 0.9,\n",
       " 1.0]"
      ]
     },
     "metadata": {},
     "output_type": "display_data"
    },
    {
     "data": {
      "text/plain": [
       "'Interpolated precision'"
      ]
     },
     "metadata": {},
     "output_type": "display_data"
    },
    {
     "data": {
      "text/plain": [
       "[1.0, 1.0, 1.0, 1.0, 1.0, 1.0, 1.0, 1.0, 1.0, 1.0, 1.0]"
      ]
     },
     "metadata": {},
     "output_type": "display_data"
    },
    {
     "data": {
      "text/plain": [
       "'My Interpolated precision'"
      ]
     },
     "metadata": {},
     "output_type": "display_data"
    },
    {
     "data": {
      "text/plain": [
       "[1.0, 1.0, 1.0, 1.0, 1.0, 1.0, 1.0, 1.0, 1.0, 1.0, 1.0]"
      ]
     },
     "metadata": {},
     "output_type": "display_data"
    },
    {
     "data": {
      "image/png": "[encoded data removed]",
      "text/plain": [
       "<Figure size 640x480 with 1 Axes>"
      ]
     },
     "metadata": {},
     "output_type": "display_data"
    }
   ],
   "source": [
    "# PRECISION-RECALL CURVE\n",
    "# Calculate precision and recall values as we move down the ranked list\n",
    "precision_values = [\n",
    "    len([\n",
    "        doc \n",
    "        for doc in results[:idx]\n",
    "        if doc['Product_name'][0] in relevant\n",
    "    ]) / idx \n",
    "    for idx, _ in enumerate(results, start=1)\n",
    "]\n",
    "\n",
    "recall_values = [\n",
    "    len([\n",
    "        doc for doc in results[:idx]\n",
    "        if doc['Product_name'][0] in relevant\n",
    "    ]) / len(relevant)\n",
    "    for idx, _ in enumerate(results, start=1)\n",
    "]\n",
    "\n",
    "display(\"Precision values:\", precision_values)\n",
    "display(\"Recall values:\", recall_values)\n",
    "\n",
    "precision_recall_match = {k: v for k,v in zip(recall_values, precision_values)}\n",
    "\n",
    "\n",
    "# Extend recall_values to include traditional steps for a better curve (0.1, 0.2 ...)\n",
    "recall_values.extend([step for step in np.arange(0.0, 1.1, 0.1) if step not in recall_values])\n",
    "recall_values = sorted(set(recall_values))\n",
    "\n",
    "\n",
    "my_interpolated_recall = [step for step in np.arange(0.0, 1.1, 0.1)]\n",
    "display(\"MY Interpolated Recall\", my_interpolated_recall)\n",
    "\n",
    "\n",
    "# Extend matching dict to include these new intermediate steps\n",
    "for idx, step in enumerate(recall_values):\n",
    "    if step not in precision_recall_match:\n",
    "        if recall_values[idx-1] in precision_recall_match:\n",
    "            precision_recall_match[step] = precision_recall_match[recall_values[idx-1]]\n",
    "        else:\n",
    "            precision_recall_match[step] = precision_recall_match[recall_values[idx+1]]\n",
    "\n",
    "\n",
    "disp = PrecisionRecallDisplay([precision_recall_match.get(r) for r in recall_values], recall_values)\n",
    "\n",
    "\n",
    "my_interpolated_precision = [precision_recall_match.get(r) for r in my_interpolated_recall]\n",
    "display(\"Interpolated precision\", [precision_recall_match.get(r) for r in recall_values])\n",
    "display(\"My Interpolated precision\", my_interpolated_precision)\n",
    "\n",
    "\n",
    "disp.plot()\n",
    "plt.savefig('precision_recall.png')\n"
   ]
  }
 ],
 "metadata": {
  "kernelspec": {
   "display_name": "Python 3",
   "language": "python",
   "name": "python3"
  },
  "language_info": {
   "codemirror_mode": {
    "name": "ipython",
    "version": 3
   },
   "file_extension": ".py",
   "mimetype": "text/x-python",
   "name": "python",
   "nbconvert_exporter": "python",
   "pygments_lexer": "ipython3",
   "version": "3.11.5"
  }
 },
 "nbformat": 4,
 "nbformat_minor": 2
}
